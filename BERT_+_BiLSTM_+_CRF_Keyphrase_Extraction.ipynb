{
  "nbformat": 4,
  "nbformat_minor": 0,
  "metadata": {
    "colab": {
      "name": "BERT + BiLSTM + CRF-Keyphrase_Extraction.ipynb",
      "provenance": [],
      "collapsed_sections": [],
      "toc_visible": true,
      "authorship_tag": "ABX9TyOCVtw5G9xDxnbDE7rG9fLA",
      "include_colab_link": true
    },
    "kernelspec": {
      "name": "python3",
      "display_name": "Python 3"
    },
    "accelerator": "GPU"
  },
  "cells": [
    {
      "cell_type": "markdown",
      "metadata": {
        "id": "view-in-github",
        "colab_type": "text"
      },
      "source": [
        "<a href=\"https://colab.research.google.com/github/asagar60/BERT_BiLSTM_CRF-model/blob/master/BERT_%2B_BiLSTM_%2B_CRF_Keyphrase_Extraction.ipynb\" target=\"_parent\"><img src=\"https://colab.research.google.com/assets/colab-badge.svg\" alt=\"Open In Colab\"/></a>"
      ]
    },
    {
      "cell_type": "markdown",
      "metadata": {
        "id": "1uz2d0PQjfsB",
        "colab_type": "text"
      },
      "source": [
        "# **1. Install Transformers package from HuggingFace**"
      ]
    },
    {
      "cell_type": "code",
      "metadata": {
        "id": "0mMSwasp5im9",
        "colab_type": "code",
        "colab": {
          "base_uri": "https://localhost:8080/",
          "height": 583
        },
        "outputId": "b1e6bd59-88af-4116-aecd-6e03448b828c"
      },
      "source": [
        "!pip install transformers"
      ],
      "execution_count": 1,
      "outputs": [
        {
          "output_type": "stream",
          "text": [
            "Collecting transformers\n",
            "\u001b[?25l  Downloading https://files.pythonhosted.org/packages/ae/05/c8c55b600308dc04e95100dc8ad8a244dd800fe75dfafcf1d6348c6f6209/transformers-3.1.0-py3-none-any.whl (884kB)\n",
            "\u001b[K     |████████████████████████████████| 890kB 2.8MB/s \n",
            "\u001b[?25hCollecting tokenizers==0.8.1.rc2\n",
            "\u001b[?25l  Downloading https://files.pythonhosted.org/packages/80/83/8b9fccb9e48eeb575ee19179e2bdde0ee9a1904f97de5f02d19016b8804f/tokenizers-0.8.1rc2-cp36-cp36m-manylinux1_x86_64.whl (3.0MB)\n",
            "\u001b[K     |████████████████████████████████| 3.0MB 16.7MB/s \n",
            "\u001b[?25hRequirement already satisfied: packaging in /usr/local/lib/python3.6/dist-packages (from transformers) (20.4)\n",
            "Requirement already satisfied: dataclasses; python_version < \"3.7\" in /usr/local/lib/python3.6/dist-packages (from transformers) (0.7)\n",
            "Requirement already satisfied: regex!=2019.12.17 in /usr/local/lib/python3.6/dist-packages (from transformers) (2019.12.20)\n",
            "Collecting sentencepiece!=0.1.92\n",
            "\u001b[?25l  Downloading https://files.pythonhosted.org/packages/d4/a4/d0a884c4300004a78cca907a6ff9a5e9fe4f090f5d95ab341c53d28cbc58/sentencepiece-0.1.91-cp36-cp36m-manylinux1_x86_64.whl (1.1MB)\n",
            "\u001b[K     |████████████████████████████████| 1.1MB 29.8MB/s \n",
            "\u001b[?25hRequirement already satisfied: numpy in /usr/local/lib/python3.6/dist-packages (from transformers) (1.18.5)\n",
            "Requirement already satisfied: requests in /usr/local/lib/python3.6/dist-packages (from transformers) (2.23.0)\n",
            "Requirement already satisfied: filelock in /usr/local/lib/python3.6/dist-packages (from transformers) (3.0.12)\n",
            "Requirement already satisfied: tqdm>=4.27 in /usr/local/lib/python3.6/dist-packages (from transformers) (4.41.1)\n",
            "Collecting sacremoses\n",
            "\u001b[?25l  Downloading https://files.pythonhosted.org/packages/7d/34/09d19aff26edcc8eb2a01bed8e98f13a1537005d31e95233fd48216eed10/sacremoses-0.0.43.tar.gz (883kB)\n",
            "\u001b[K     |████████████████████████████████| 890kB 49.4MB/s \n",
            "\u001b[?25hRequirement already satisfied: pyparsing>=2.0.2 in /usr/local/lib/python3.6/dist-packages (from packaging->transformers) (2.4.7)\n",
            "Requirement already satisfied: six in /usr/local/lib/python3.6/dist-packages (from packaging->transformers) (1.15.0)\n",
            "Requirement already satisfied: urllib3!=1.25.0,!=1.25.1,<1.26,>=1.21.1 in /usr/local/lib/python3.6/dist-packages (from requests->transformers) (1.24.3)\n",
            "Requirement already satisfied: certifi>=2017.4.17 in /usr/local/lib/python3.6/dist-packages (from requests->transformers) (2020.6.20)\n",
            "Requirement already satisfied: idna<3,>=2.5 in /usr/local/lib/python3.6/dist-packages (from requests->transformers) (2.10)\n",
            "Requirement already satisfied: chardet<4,>=3.0.2 in /usr/local/lib/python3.6/dist-packages (from requests->transformers) (3.0.4)\n",
            "Requirement already satisfied: click in /usr/local/lib/python3.6/dist-packages (from sacremoses->transformers) (7.1.2)\n",
            "Requirement already satisfied: joblib in /usr/local/lib/python3.6/dist-packages (from sacremoses->transformers) (0.16.0)\n",
            "Building wheels for collected packages: sacremoses\n",
            "  Building wheel for sacremoses (setup.py) ... \u001b[?25l\u001b[?25hdone\n",
            "  Created wheel for sacremoses: filename=sacremoses-0.0.43-cp36-none-any.whl size=893257 sha256=720d2d666f40de857bc09c9609e893b22aa059de63bd6faeb8cd4194284d0de3\n",
            "  Stored in directory: /root/.cache/pip/wheels/29/3c/fd/7ce5c3f0666dab31a50123635e6fb5e19ceb42ce38d4e58f45\n",
            "Successfully built sacremoses\n",
            "Installing collected packages: tokenizers, sentencepiece, sacremoses, transformers\n",
            "Successfully installed sacremoses-0.0.43 sentencepiece-0.1.91 tokenizers-0.8.1rc2 transformers-3.1.0\n"
          ],
          "name": "stdout"
        }
      ]
    },
    {
      "cell_type": "markdown",
      "metadata": {
        "id": "At6g4KXRj5-Z",
        "colab_type": "text"
      },
      "source": [
        "# **2. Get modified files from github**"
      ]
    },
    {
      "cell_type": "code",
      "metadata": {
        "id": "1WYw08sf5Bbp",
        "colab_type": "code",
        "colab": {
          "base_uri": "https://localhost:8080/",
          "height": 133
        },
        "outputId": "fad9cd47-0bf7-42aa-dace-2c5de473a590"
      },
      "source": [
        "!git clone https://github.com/asagar60/BERT_BiLSTM_CRF-model"
      ],
      "execution_count": 2,
      "outputs": [
        {
          "output_type": "stream",
          "text": [
            "Cloning into 'BERT_BiLSTM_CRF-model'...\n",
            "remote: Enumerating objects: 120, done.\u001b[K\n",
            "remote: Counting objects: 100% (120/120), done.\u001b[K\n",
            "remote: Compressing objects: 100% (79/79), done.\u001b[K\n",
            "remote: Total 120 (delta 46), reused 99 (delta 34), pack-reused 0\u001b[K\n",
            "Receiving objects: 100% (120/120), 7.54 MiB | 4.81 MiB/s, done.\n",
            "Resolving deltas: 100% (46/46), done.\n"
          ],
          "name": "stdout"
        }
      ]
    },
    {
      "cell_type": "markdown",
      "metadata": {
        "id": "mKazoAONjtz3",
        "colab_type": "text"
      },
      "source": [
        "# **3. Download pretrained BERT-BASE-UNCASED files**"
      ]
    },
    {
      "cell_type": "markdown",
      "metadata": {
        "id": "WyWf8hAoAPhc",
        "colab_type": "text"
      },
      "source": [
        "- Download pretrained BERT (base-uncased) and vocab file from huggingface\n",
        "- Place them in model/ folder inside BERT-keyphrase-extraction folder"
      ]
    },
    {
      "cell_type": "code",
      "metadata": {
        "id": "qBrAE3E6RUHr",
        "colab_type": "code",
        "colab": {
          "base_uri": "https://localhost:8080/",
          "height": 383
        },
        "outputId": "ed500d05-5699-4fd3-9936-9ed2a5c362a1"
      },
      "source": [
        "!wget https://s3.amazonaws.com/models.huggingface.co/bert/bert-base-uncased.tar.gz\n",
        "!wget https://s3.amazonaws.com/models.huggingface.co/bert/bert-base-uncased-vocab.txt"
      ],
      "execution_count": 3,
      "outputs": [
        {
          "output_type": "stream",
          "text": [
            "--2020-09-17 10:31:33--  https://s3.amazonaws.com/models.huggingface.co/bert/bert-base-uncased.tar.gz\n",
            "Resolving s3.amazonaws.com (s3.amazonaws.com)... 52.217.38.126\n",
            "Connecting to s3.amazonaws.com (s3.amazonaws.com)|52.217.38.126|:443... connected.\n",
            "HTTP request sent, awaiting response... 200 OK\n",
            "Length: 407873900 (389M) [application/x-tar]\n",
            "Saving to: ‘bert-base-uncased.tar.gz’\n",
            "\n",
            "bert-base-uncased.t 100%[===================>] 388.98M  17.2MB/s    in 24s     \n",
            "\n",
            "2020-09-17 10:31:58 (15.9 MB/s) - ‘bert-base-uncased.tar.gz’ saved [407873900/407873900]\n",
            "\n",
            "--2020-09-17 10:31:59--  https://s3.amazonaws.com/models.huggingface.co/bert/bert-base-uncased-vocab.txt\n",
            "Resolving s3.amazonaws.com (s3.amazonaws.com)... 52.216.139.109\n",
            "Connecting to s3.amazonaws.com (s3.amazonaws.com)|52.216.139.109|:443... connected.\n",
            "HTTP request sent, awaiting response... 200 OK\n",
            "Length: 231508 (226K) [text/plain]\n",
            "Saving to: ‘bert-base-uncased-vocab.txt’\n",
            "\n",
            "bert-base-uncased-v 100%[===================>] 226.08K   420KB/s    in 0.5s    \n",
            "\n",
            "2020-09-17 10:32:00 (420 KB/s) - ‘bert-base-uncased-vocab.txt’ saved [231508/231508]\n",
            "\n"
          ],
          "name": "stdout"
        }
      ]
    },
    {
      "cell_type": "code",
      "metadata": {
        "id": "YY8c4N1OStD0",
        "colab_type": "code",
        "colab": {}
      },
      "source": [
        "!mkdir /content/BERT_BiLSTM_CRF-model/model"
      ],
      "execution_count": 4,
      "outputs": []
    },
    {
      "cell_type": "code",
      "metadata": {
        "id": "dN7RSvLDRUP0",
        "colab_type": "code",
        "colab": {
          "base_uri": "https://localhost:8080/",
          "height": 50
        },
        "outputId": "d5d1e82d-fc8d-43c8-c4ea-8ce2ee4acd1b"
      },
      "source": [
        "!tar -xvf  '/content/bert-base-uncased.tar.gz' -C '/content/BERT_BiLSTM_CRF-model/model' \n",
        "!rm '/content/bert-base-uncased.tar.gz'"
      ],
      "execution_count": 5,
      "outputs": [
        {
          "output_type": "stream",
          "text": [
            "./pytorch_model.bin\n",
            "./bert_config.json\n"
          ],
          "name": "stdout"
        }
      ]
    },
    {
      "cell_type": "code",
      "metadata": {
        "id": "V1VrYXbwTIrQ",
        "colab_type": "code",
        "colab": {}
      },
      "source": [
        "!mv '/content/bert-base-uncased-vocab.txt' '/content/BERT_BiLSTM_CRF-model/model/vocab.txt'\n",
        "!mv '/content/BERT_BiLSTM_CRF-model/model/bert_config.json' '/content/BERT_BiLSTM_CRF-model/model/config.json'"
      ],
      "execution_count": 6,
      "outputs": []
    },
    {
      "cell_type": "markdown",
      "metadata": {
        "id": "ohpB9sLd-0FL",
        "colab_type": "text"
      },
      "source": [
        "Changes done to the existing code:\n",
        "\n",
        "- Use transformers from HuggingFace instead of pytorch-pretrained-bert\n",
        "- For BertTorkenizer , update config using  ```config.update({\"num_labels\":len(params.tag2idx)})``` evaluate.py\n",
        "- Load saved model using  ```load_state_dict(checkpoint['state_dict'], strict=False)``` in utils.py\n",
        "- Remove 100 in ```p = 100 * nb_correct / nb_pred if nb_pred > 0 else 0``` while calculating precision and recall in metrics.py\n",
        "- Add generate_keyphrase.py to test and write the output to a file.\n"
      ]
    },
    {
      "cell_type": "markdown",
      "metadata": {
        "id": "zIZ0BdV08_F-",
        "colab_type": "text"
      },
      "source": [
        "# **3. Load Data**"
      ]
    },
    {
      "cell_type": "code",
      "metadata": {
        "id": "B167rZAIlxox",
        "colab_type": "code",
        "colab": {
          "base_uri": "https://localhost:8080/",
          "height": 50
        },
        "outputId": "24ef5516-e2cd-4810-ba99-509e40bd460d"
      },
      "source": [
        "import os\n",
        "import textwrap\n",
        "from transformers import BertTokenizer\n",
        "import matplotlib.pyplot as plt\n",
        "import seaborn as sns\n",
        "\n",
        "sns.set(style = 'darkgrid')\n",
        "\n",
        "sns.set(font_scale = 1.5)\n",
        "plt.rcParams[\"figure.figsize\"] = (10,5)"
      ],
      "execution_count": 7,
      "outputs": [
        {
          "output_type": "stream",
          "text": [
            "/usr/local/lib/python3.6/dist-packages/statsmodels/tools/_testing.py:19: FutureWarning: pandas.util.testing is deprecated. Use the functions in the public API at pandas.testing instead.\n",
            "  import pandas.util.testing as tm\n"
          ],
          "name": "stderr"
        }
      ]
    },
    {
      "cell_type": "code",
      "metadata": {
        "id": "la6gQlPBrRqX",
        "colab_type": "code",
        "colab": {}
      },
      "source": [
        "#train folder for task 1\n",
        "train_folder = '/content/BERT_BiLSTM_CRF-model/data/task1/train'"
      ],
      "execution_count": 8,
      "outputs": []
    },
    {
      "cell_type": "code",
      "metadata": {
        "id": "FQvY2o2drk45",
        "colab_type": "code",
        "colab": {
          "base_uri": "https://localhost:8080/",
          "height": 33
        },
        "outputId": "8b8314e0-84c0-4fe0-e306-9d93add0cf9f"
      },
      "source": [
        "#load bert tokenizer\n",
        "print('Loading BERT Tokenizer..')\n",
        "\n",
        "tokenizer = BertTokenizer.from_pretrained('/content/BERT_BiLSTM_CRF-model/model/', do_lower_case=True)\n",
        "wrapper = textwrap.TextWrapper(width=80)"
      ],
      "execution_count": 9,
      "outputs": [
        {
          "output_type": "stream",
          "text": [
            "Loading BERT Tokenizer..\n"
          ],
          "name": "stdout"
        }
      ]
    },
    {
      "cell_type": "code",
      "metadata": {
        "id": "orUu5Ls91dxG",
        "colab_type": "code",
        "colab": {}
      },
      "source": [
        "#loading vocab data to see which tokens become [UNK] tokens\n",
        "\n",
        "vocab = []\n",
        "file_path = '/content/BERT_BiLSTM_CRF-model/model/vocab.txt'\n",
        "with open(file_path, 'r') as file:\n",
        "    for v in file:\n",
        "        vocab.append(v.strip('\\n'))"
      ],
      "execution_count": 10,
      "outputs": []
    },
    {
      "cell_type": "code",
      "metadata": {
        "id": "A-AoalSQkqH-",
        "colab_type": "code",
        "colab": {
          "base_uri": "https://localhost:8080/",
          "height": 550
        },
        "outputId": "75d60af9-7c76-4d74-f93e-7fc380878f20"
      },
      "source": [
        "with open(train_folder + '/'+'tags.txt') as fp:\n",
        "   for cnt, line in enumerate(fp):\n",
        "     if cnt == 5 :\n",
        "       break\n",
        "     print(\"\\nLine : {} \\t length : {}\".format(cnt,len(line.split())))\n",
        "     print(\" \")\n",
        "     print(\"{}\".format(wrapper.fill(line)))"
      ],
      "execution_count": 11,
      "outputs": [
        {
          "output_type": "stream",
          "text": [
            "\n",
            "Line : 0 \t length : 134\n",
            " \n",
            "I I I O O O O O O O O I I I I I I I I O O O O I I I I I I I I I I I I I I I I I\n",
            "O O O O O O O O O O O O O O O O O O O O O O O O O O O O O O O O O O I I I I I I\n",
            "I I I I I I I O O I I I I I I I I I I I O O O O O O I O O I O O O O I I I I I I\n",
            "I I I I I I I I O O O O O O\n",
            "\n",
            "Line : 1 \t length : 145\n",
            " \n",
            "I I I I I I I I I I I O O O O O O O O I I O O O O O O I I I I I I I I I I I I I\n",
            "O O O O O O O O O O O I I O O O O O O O O O O I I I I I I I I I I O O O O O O O\n",
            "O I I I I I I I I I I I I I I I O O O O O O O I I I O O I I O O O O O O O O O O\n",
            "O O I I I I O O O O O O I I I O O O O O I I I O O\n",
            "\n",
            "Line : 2 \t length : 85\n",
            " \n",
            "I I I I I I I O O O O O I I I I I I I I I I I I I I I I O O O O I I I O O O O O\n",
            "O O O I I I I I I I I I O O I I I I O O O I I I I I I I I I I I O O O I I I O O\n",
            "O O I I I\n",
            "\n",
            "Line : 3 \t length : 111\n",
            " \n",
            "I I I I I I I I I O O O I I I I O O O O O O O I I I I I I I I O O O O O O O O O\n",
            "O I I I I I I I O O I I I I I O O I I I I I I I I I O O I O O O O O O O O O I I\n",
            "I O O O O O O O I I I I I O O O I I I I I I I O O O I I I I I\n",
            "\n",
            "Line : 4 \t length : 119\n",
            " \n",
            "I I I I I I I I O O O O O O O I I I O O I I I I O O I I I I I I O O I I I O O O\n",
            "I I I I I I I I I O O O O O O O O O I I I I I I I I I I I I O O O O O O O O O O\n",
            "O I I I I I I I I I I I I I I I I O O O O O O O O O O I I I I I I I I O O O O\n"
          ],
          "name": "stdout"
        }
      ]
    },
    {
      "cell_type": "code",
      "metadata": {
        "id": "ea1k6H2SmH3x",
        "colab_type": "code",
        "colab": {
          "base_uri": "https://localhost:8080/",
          "height": 1000
        },
        "outputId": "9c1115ca-228d-4024-c602-85153fc4bf28"
      },
      "source": [
        "# print 5 sample sentences\n",
        "with open(train_folder + '/'+'sentences.txt') as fp:\n",
        "   for cnt, line in enumerate(fp):\n",
        "     if cnt > 5 :\n",
        "       break\n",
        "     print(\"\\nLine : {} \\t length : {}\".format(cnt,len(line.split())))\n",
        "     print(\" \")\n",
        "     print(\"{}\".format(wrapper.fill(line)))"
      ],
      "execution_count": 12,
      "outputs": [
        {
          "output_type": "stream",
          "text": [
            "\n",
            "Line : 0 \t length : 134\n",
            " \n",
            "complex lange ##vin ( cl ) [ 1 , 2 ] sign problem numerical simulations of\n",
            "lattice field theories weight , sampling . nonzero chemical potential , lower\n",
            "and four - dimensional field theories sign problem in the thermodynamic limit [\n",
            "3 – 8 ] ( for reviews , e . g . refs . [ 9 , 10 ] ) . however , inc ##epti ##on\n",
            ", [ 11 – 16 ] . improved understanding , relying on the combination of\n",
            "analytical and numerical insight . past , probability distribution complex\n",
            "##ified configuration space , lange ##vin process , [ 17 , 18 ] . distribution\n",
            "local ##ised cl results . importantly , non ##abel ##ian gauge theories , sl ( n\n",
            ", c ) gauge cooling [ 8 , 10 ] .\n",
            "\n",
            "Line : 1 \t length : 145\n",
            " \n",
            "nuclear theory thermal ##ization nuclear reactions , semi - classical methods [\n",
            "13 , 14 , 10 ] , quantum liquids [ 15 , 16 ] . improved molecular dynamics\n",
            "methods combining quantum features semi classical treatment of dynamical\n",
            "correlations [ 17 , 18 ] . still , clear - cut quantum approach yet , [ 19 , 20\n",
            ", 10 ] . field of clusters and nano structures lasers imaging techniques . semic\n",
            "##lass ##ical [ 21 , 22 ] qualitatively describe dynamical processes . simple\n",
            "metals with sufficiently del ##ocal ##ized wave functions , justify ##ing semic\n",
            "##lass ##ical approximations . organic systems , celebr ##ated c ##60 [ 4 , 23 ]\n",
            ", way . classical , approaches , very intense laser pulses [ 2 ] . blow ##n\n",
            "quantum mechanical features anym ##ore . scenarios , quantum shell effects\n",
            "ignored .\n",
            "\n",
            "Line : 2 \t length : 85\n",
            " \n",
            "dirac equation . the cre ##utz model [ 32 ] treatment , objects hopping on a\n",
            "lattice instead of particles moving in a space - time continuum . 2 . 4 ,\n",
            "measurement scenario , etc . discrete . 2 . 4 , paul ##i equation , continuum\n",
            "space - time . course , motion of the particle 2 . 6 objects lattice . mass\n",
            "##less spin - 1 / 2 particles space - time lattice model . in - depth , future\n",
            "research .\n",
            "\n",
            "Line : 3 \t length : 111\n",
            " \n",
            "statistical mechanics nonlinear pde ##s theory phase transitions . test - case\n",
            "first order phase transition ( semi - heuristic ##ally described ) van der waals\n",
            "model . field partition function ( eq . ( 9 ) ) , particles . partition function\n",
            "klein – gordon equation , reproduce ##s van der waals isother ##ms and ,\n",
            "thermodynamic limit n ##→∞ maxwell equal areas rule . simplicity , spin [ 17 –\n",
            "19 , 14 , 16 ] macroscopic thermodynamic systems [ 20 , 15 ] admit ##ting\n",
            "partition functions of the form ( 4 ) general equations of state of the form ( 7\n",
            ") class vir ##ial expansions .\n",
            "\n",
            "Line : 4 \t length : 119\n",
            " \n",
            "fluctuating vacuum quantum fields , free maxwell field [ 1 – 12 ] example .\n",
            "fermi ##onic fields electron , undergo vacuum fluctuations , expect ##s cas\n",
            "##imi ##r effects such fields way . nuclear physics , so - called “ mit bag\n",
            "model ” of the nucle ##on [ 13 ] . bag - model envis ##ages nucle ##on a\n",
            "collection of fermi ##onic fields describing confined quarks . ‘ bag ’ nucle\n",
            "##on ’ s surface . case , the bag boundary condition modifies the vacuum\n",
            "fluctuations of the field , cas ##imi ##r force [ 14 – 18 ] . force , scale ,\n",
            "nuclear physics . bag - model nucle ##on [ 19 ] .\n",
            "\n",
            "Line : 5 \t length : 104\n",
            " \n",
            "aperture z - scan experiments , saturation absorption water [ 8 ] , n ##2\n",
            "primary alcohols 156 ##0 ##nm fem ##tos ##econd laser pulses , however , optical\n",
            "- chop ##per . vibrational combination states alcohols fem ##tos ##econd laser\n",
            "pulses at 156 ##0 ##nm . absorption 156 ##0 ##nm molecules non - radiative\n",
            "processes , transient thermal effects . transient thermal effects pure optical\n",
            "nonlinearity n ##2 [ 14 ] . transient thermal effects high repetition - rate\n",
            "lasers cumulative thermal effect timescale ##s . measure this cumulative thermal\n",
            "effect mode - mismatch ##ed two - color pump – probe experiment .\n"
          ],
          "name": "stdout"
        }
      ]
    },
    {
      "cell_type": "code",
      "metadata": {
        "id": "Bl4O5NNSJHKa",
        "colab_type": "code",
        "colab": {}
      },
      "source": [
        ""
      ],
      "execution_count": 12,
      "outputs": []
    },
    {
      "cell_type": "code",
      "metadata": {
        "id": "BMIGhtad068t",
        "colab_type": "code",
        "colab": {
          "base_uri": "https://localhost:8080/",
          "height": 453
        },
        "outputId": "49d91fce-b525-43a2-879e-d2eaf5e00150"
      },
      "source": [
        "#print sample line, its tokenized form and vectorized form\n",
        "\n",
        "with open(train_folder + '/'+'sentences.txt') as fp:\n",
        "   for cnt, line in enumerate(fp):  \n",
        "     print(\"\\nLine : {} \\t length : {}\".format(cnt,len(line.split())))\n",
        "     print(\" \")\n",
        "     print(\"{}\".format(wrapper.fill(line)))\n",
        "     \n",
        "     tokens = line.split()\n",
        "     word_vector = tokenizer.convert_tokens_to_ids(tokens)\n",
        "     tokenized = [vocab[i] for i in word_vector ]\n",
        "     print(\"\\n Tokenized words \")\n",
        "     print()\n",
        "     i = 0\n",
        "     while True:\n",
        "       if i > len(tokenized):\n",
        "         break\n",
        "       start = i\n",
        "       end = min(start+20, len(tokenized))\n",
        "       print(tokenized[start:end])\n",
        "       i = i+20\n",
        "\n",
        "     print(\"\\n  Word vector form \")\n",
        "     print(word_vector)\n",
        "     break"
      ],
      "execution_count": 13,
      "outputs": [
        {
          "output_type": "stream",
          "text": [
            "\n",
            "Line : 0 \t length : 134\n",
            " \n",
            "complex lange ##vin ( cl ) [ 1 , 2 ] sign problem numerical simulations of\n",
            "lattice field theories weight , sampling . nonzero chemical potential , lower\n",
            "and four - dimensional field theories sign problem in the thermodynamic limit [\n",
            "3 – 8 ] ( for reviews , e . g . refs . [ 9 , 10 ] ) . however , inc ##epti ##on\n",
            ", [ 11 – 16 ] . improved understanding , relying on the combination of\n",
            "analytical and numerical insight . past , probability distribution complex\n",
            "##ified configuration space , lange ##vin process , [ 17 , 18 ] . distribution\n",
            "local ##ised cl results . importantly , non ##abel ##ian gauge theories , sl ( n\n",
            ", c ) gauge cooling [ 8 , 10 ] .\n",
            "\n",
            " Tokenized words \n",
            "\n",
            "['complex', 'lange', '##vin', '(', 'cl', ')', '[', '1', ',', '2', ']', 'sign', 'problem', 'numerical', 'simulations', 'of', 'lattice', 'field', 'theories', 'weight']\n",
            "[',', 'sampling', '.', '[UNK]', 'chemical', 'potential', ',', 'lower', 'and', 'four', '-', 'dimensional', 'field', 'theories', 'sign', 'problem', 'in', 'the', '[UNK]', 'limit']\n",
            "['[', '3', '–', '8', ']', '(', 'for', 'reviews', ',', 'e', '.', 'g', '.', '[UNK]', '.', '[', '9', ',', '10', ']']\n",
            "[')', '.', 'however', ',', 'inc', '[UNK]', '##on', ',', '[', '11', '–', '16', ']', '.', 'improved', 'understanding', ',', 'relying', 'on', 'the']\n",
            "['combination', 'of', 'analytical', 'and', 'numerical', 'insight', '.', 'past', ',', 'probability', 'distribution', 'complex', '##ified', 'configuration', 'space', ',', 'lange', '##vin', 'process', ',']\n",
            "['[', '17', ',', '18', ']', '.', 'distribution', 'local', '##ised', 'cl', 'results', '.', 'importantly', ',', 'non', '[UNK]', '##ian', 'gauge', 'theories', ',']\n",
            "['sl', '(', 'n', ',', 'c', ')', 'gauge', 'cooling', '[', '8', ',', '10', ']', '.']\n",
            "\n",
            "  Word vector form \n",
            "[3375, 21395, 6371, 1006, 18856, 1007, 1031, 1015, 1010, 1016, 1033, 3696, 3291, 15973, 24710, 1997, 17779, 2492, 8106, 3635, 1010, 16227, 1012, 100, 5072, 4022, 1010, 2896, 1998, 2176, 1011, 8789, 2492, 8106, 3696, 3291, 1999, 1996, 100, 5787, 1031, 1017, 1516, 1022, 1033, 1006, 2005, 4391, 1010, 1041, 1012, 1043, 1012, 100, 1012, 1031, 1023, 1010, 2184, 1033, 1007, 1012, 2174, 1010, 4297, 100, 2239, 1010, 1031, 2340, 1516, 2385, 1033, 1012, 5301, 4824, 1010, 18345, 2006, 1996, 5257, 1997, 17826, 1998, 15973, 12369, 1012, 2627, 1010, 9723, 4353, 3375, 7810, 9563, 2686, 1010, 21395, 6371, 2832, 1010, 1031, 2459, 1010, 2324, 1033, 1012, 4353, 2334, 5084, 18856, 3463, 1012, 14780, 1010, 2512, 100, 2937, 7633, 8106, 1010, 22889, 1006, 1050, 1010, 1039, 1007, 7633, 11520, 1031, 1022, 1010, 2184, 1033, 1012]\n"
          ],
          "name": "stdout"
        }
      ]
    },
    {
      "cell_type": "markdown",
      "metadata": {
        "id": "l1-SSnng6xaS",
        "colab_type": "text"
      },
      "source": [
        "#### we can see words like \"NonZero\", \"Thermodynamic\", \"refs\", \"##abel\" converted to  ```<UNK>``` embedding"
      ]
    },
    {
      "cell_type": "code",
      "metadata": {
        "id": "1jcoJi3N9mwr",
        "colab_type": "code",
        "colab": {
          "base_uri": "https://localhost:8080/",
          "height": 350
        },
        "outputId": "4a6f7d0e-15ca-425f-a7ae-84cbe54bd87f"
      },
      "source": [
        "#plot distribution of sentence lengths\n",
        "len_sentences = []\n",
        "with open(train_folder + '/'+'sentences.txt') as fp:\n",
        "   for line in fp:  \n",
        "     len_sentences.append(len(line.split()))\n",
        "\n",
        "sns.distplot(len_sentences, kde = False, rug = False).set_title('Distribution of Sentence lengths in Train set')\n",
        "plt.show()"
      ],
      "execution_count": 14,
      "outputs": [
        {
          "output_type": "display_data",
          "data": {
            "image/png": "[encoded data removed]",
            "text/plain": [
              "<Figure size 720x360 with 1 Axes>"
            ]
          },
          "metadata": {
            "tags": []
          }
        }
      ]
    },
    {
      "cell_type": "markdown",
      "metadata": {
        "id": "s4MFHFRakYex",
        "colab_type": "text"
      },
      "source": [
        "# **Train and Evaluate the model with default parameters**"
      ]
    },
    {
      "cell_type": "markdown",
      "metadata": {
        "id": "3UEOUQ9E8jG0",
        "colab_type": "text"
      },
      "source": [
        "#### **a. Train with default parameters**"
      ]
    },
    {
      "cell_type": "code",
      "metadata": {
        "id": "1-o0HvMlErkE",
        "colab_type": "code",
        "colab": {
          "base_uri": "https://localhost:8080/",
          "height": 933
        },
        "outputId": "920bfff3-5c68-42a9-d35f-83cadf9b2cde"
      },
      "source": [
        "!python '/content/BERT_BiLSTM_CRF-model/train_bilstm.py' --data_dir '/content/BERT_BiLSTM_CRF-model/data/task1/' --bert_model_dir '/content/BERT_BiLSTM_CRF-model/model/' --model_dir '/content/BERT_BiLSTM_CRF-model/experiments/base_model'"
      ],
      "execution_count": 15,
      "outputs": [
        {
          "output_type": "stream",
          "text": [
            "2020-09-17 10:32:12.628045: I tensorflow/stream_executor/platform/default/dso_loader.cc:48] Successfully opened dynamic library libcudart.so.10.1\n",
            "device: cuda, n_gpu: 1, 16-bits training: False\n",
            "Loading the datasets...\n",
            "Load Data Done\n",
            "Initial model Done\n",
            "Optimizer Done\n",
            "Starting training for 20 epoch(s)\n",
            "Epoch 1/20\n",
            "100% 99/99 [00:19<00:00,  5.19it/s, loss=51.193]\n",
            "- Train metrics: loss: 34.92; f1: 00.08\n",
            "- Val metrics: loss: 45.63; f1: 00.08\n",
            "- Found new best F1\n",
            "Epoch 2/20\n",
            "100% 99/99 [00:18<00:00,  5.24it/s, loss=30.581]\n",
            "- Train metrics: loss: 26.25; f1: 00.22\n",
            "- Val metrics: loss: 36.03; f1: 00.20\n",
            "- Found new best F1\n",
            "Epoch 3/20\n",
            "100% 99/99 [00:18<00:00,  5.21it/s, loss=27.275]\n",
            "- Train metrics: loss: 27.47; f1: 00.22\n",
            "- Val metrics: loss: 39.42; f1: 00.18\n",
            "Epoch 4/20\n",
            "100% 99/99 [00:19<00:00,  5.19it/s, loss=24.548]\n",
            "- Train metrics: loss: 21.17; f1: 00.41\n",
            "- Val metrics: loss: 27.57; f1: 00.38\n",
            "- Found new best F1\n",
            "Epoch 5/20\n",
            "100% 99/99 [00:19<00:00,  5.21it/s, loss=23.765]\n",
            "- Train metrics: loss: 21.02; f1: 00.36\n",
            "- Val metrics: loss: 31.62; f1: 00.29\n",
            "Epoch 6/20\n",
            "100% 99/99 [00:18<00:00,  5.22it/s, loss=22.025]\n",
            "- Train metrics: loss: 17.70; f1: 00.47\n",
            "- Val metrics: loss: 26.60; f1: 00.38\n",
            "- Found new best F1\n",
            "Epoch 7/20\n",
            "100% 99/99 [00:19<00:00,  5.21it/s, loss=21.526]\n",
            "- Train metrics: loss: 17.70; f1: 00.48\n",
            "- Val metrics: loss: 26.15; f1: 00.40\n",
            "- Found new best F1\n",
            "Epoch 8/20\n",
            "100% 99/99 [00:18<00:00,  5.23it/s, loss=20.094]\n",
            "- Train metrics: loss: 18.83; f1: 00.40\n",
            "- Val metrics: loss: 31.17; f1: 00.32\n",
            "Epoch 9/20\n",
            "100% 99/99 [00:18<00:00,  5.23it/s, loss=19.050]\n",
            "- Train metrics: loss: 15.61; f1: 00.48\n",
            "- Val metrics: loss: 27.35; f1: 00.40\n",
            "- Found new best F1\n",
            "Epoch 10/20\n",
            "100% 99/99 [00:18<00:00,  5.23it/s, loss=18.091]\n",
            "- Train metrics: loss: 14.57; f1: 00.50\n",
            "- Val metrics: loss: 26.02; f1: 00.40\n",
            "Best val f1: 00.40\n",
            "stopping\n"
          ],
          "name": "stdout"
        }
      ]
    },
    {
      "cell_type": "markdown",
      "metadata": {
        "id": "LK4liZVq8x6g",
        "colab_type": "text"
      },
      "source": [
        "#### **b. Evaluate on Test data**"
      ]
    },
    {
      "cell_type": "code",
      "metadata": {
        "id": "JY7iMJ4FVSS4",
        "colab_type": "code",
        "colab": {
          "base_uri": "https://localhost:8080/",
          "height": 233
        },
        "outputId": "8be54aae-2f11-4fda-a16a-6e96efe19586"
      },
      "source": [
        "!python '/content/BERT_BiLSTM_CRF-model/evaluate_bilstm.py' --data_dir '/content/BERT_BiLSTM_CRF-model/data/task1/' --bert_model_dir '/content/BERT_BiLSTM_CRF-model/model/' --model_dir '/content/BERT_BiLSTM_CRF-model/experiments/base_model' --restore_file best"
      ],
      "execution_count": 16,
      "outputs": [
        {
          "output_type": "stream",
          "text": [
            "2020-09-17 10:39:27.418431: I tensorflow/stream_executor/platform/default/dso_loader.cc:48] Successfully opened dynamic library libcudart.so.10.1\n",
            "Loading the dataset...\n",
            "Load Data Done\n",
            "Initial model Done\n",
            "- done.\n",
            "Starting evaluation...\n",
            "- Test metrics: loss: 27.35; f1: 00.40\n",
            "             precision    recall  f1-score   support\n",
            "\n",
            "          I       0.43      0.42      0.43       921\n",
            "\n",
            "avg / total       0.43      0.42      0.43       921\n",
            "\n"
          ],
          "name": "stdout"
        }
      ]
    },
    {
      "cell_type": "markdown",
      "metadata": {
        "id": "eBUAZu5L-CQ_",
        "colab_type": "text"
      },
      "source": [
        "## **Check the Trained model on 'h1_7.txt'**"
      ]
    },
    {
      "cell_type": "code",
      "metadata": {
        "id": "nBbnRd8D4Ewb",
        "colab_type": "code",
        "colab": {
          "base_uri": "https://localhost:8080/",
          "height": 83
        },
        "outputId": "c4a97410-e3aa-46d2-972f-7a1d9cadf2c7"
      },
      "source": [
        "!python '/content/BERT_BiLSTM_CRF-model/generate_keyphrase.py' --data_dir '/content/BERT_BiLSTM_CRF-model/data/task1/' --bert_model_dir '/content/BERT_BiLSTM_CRF-model/model/' --model_dir '/content/BERT_BiLSTM_CRF-model/experiments/base_model' --test_file '/content/BERT_BiLSTM_CRF-model/h1_7.txt' --restore_file best"
      ],
      "execution_count": 17,
      "outputs": [
        {
          "output_type": "stream",
          "text": [
            "2020-09-17 10:40:03.289488: I tensorflow/stream_executor/platform/default/dso_loader.cc:48] Successfully opened dynamic library libcudart.so.10.1\n",
            "Starting Evaluation\n",
            "output flused to disk\n",
            "Done\n"
          ],
          "name": "stdout"
        }
      ]
    },
    {
      "cell_type": "markdown",
      "metadata": {
        "id": "uPuMBnA--6Po",
        "colab_type": "text"
      },
      "source": [
        "#### **a. Print Sample text data**"
      ]
    },
    {
      "cell_type": "code",
      "metadata": {
        "id": "anZy6aSu2wH5",
        "colab_type": "code",
        "colab": {
          "base_uri": "https://localhost:8080/",
          "height": 1000
        },
        "outputId": "9cbcccab-5764-4995-b7e0-17597b2a107d"
      },
      "source": [
        "with open('/content/BERT_BiLSTM_CRF-model/h1_7.txt') as fp:\n",
        "   for cnt, line in enumerate(fp):  \n",
        "     if cnt  > 50:\n",
        "       break\n",
        "     print(\"{}\".format(wrapper.fill(line)))"
      ],
      "execution_count": 18,
      "outputs": [
        {
          "output_type": "stream",
          "text": [
            "Search APIs\n",
            "\n",
            "Most search APIs are multi-index, with the exception of the Explain API\n",
            "endpoints.\n",
            "\n",
            "Routing\n",
            "\n",
            "When executing a search, Elasticsearch will pick the \"best\" copy of the data\n",
            "based on the adaptive replica selection formula. Which shards will be searched\n",
            "on can also be controlled by providing the routing parameter. For example, when\n",
            "indexing tweets, the routing value can be the user name:\n",
            "\n",
            "In such a case, if we want to search only on the tweets for a specific user, we\n",
            "can specify it as the routing, resulting in the search hitting only the relevant\n",
            "shard:\n",
            "\n",
            "The routing parameter can be multi valued represented as a comma separated\n",
            "string. This will result in hitting the relevant shards where the routing values\n",
            "match to.\n",
            "\n",
            "Adaptive Replica Selection\n",
            "\n",
            "By default, Elasticsearch will use what is called adaptive replica selection.\n",
            "This allows the coordinating node to send the request to the copy deemed \"best\"\n",
            "based on a number of criteria:\n",
            "\n",
            " Response time of past requests between the coordinating node and the node\n",
            "containing the copy of the data\n",
            "\n",
            " Time past search requests took to execute on the node containing the data\n",
            "\n",
            " The queue size of the search threadpool on the node containing the data\n",
            "\n",
            "This can be turned off by changing the dynamic cluster setting\n",
            "cluster.routing.use_adaptive_replica_selection from true to false:\n",
            "\n",
            "If adaptive replica selection is turned off, searches are sent to the\n",
            "index/indices shards in a round robin fashion between all copies of the data\n",
            "(primaries and replicas).\n",
            "\n",
            "Stats Groups\n",
            "\n",
            "A search can be associated with stats groups, which maintains a statistics\n",
            "aggregation per group. It can later be retrieved using the indices stats API\n",
            "specifically. For example, here is a search body request that associate the\n",
            "request with two different groups:\n",
            "\n",
            "Global Search Timeout\n",
            "\n",
            "Individual searches can have a timeout as part of the Request Body Search. Since\n",
            "search requests can originate from many sources, Elasticsearch has a dynamic\n",
            "cluster-level setting for a global search timeout that applies to all search\n",
            "requests that do not set a timeout in the request body. These requests will be\n",
            "cancelled after the specified time using the mechanism described in the\n",
            "following section on Search Cancellation\n",
            "\n",
            ". Therefore the same caveats about timeout responsiveness apply.\n",
            "\n",
            "The setting key is search.default_search_timeout and can be set using the\n",
            "Cluster Update Settings endpoints. The default value is no global timeout.\n",
            "Setting this value to -1 resets the global search timeout to no timeout.\n",
            "\n",
            "Search Cancellation\n",
            "\n",
            "Searches can be cancelled using standard task cancellation mechanism. By\n",
            "default, a running search only checks if it is cancelled or not on segment\n",
            "boundaries, therefore the cancellation can be delayed by large segments. The\n",
            "search cancellation responsiveness can be improved by setting the dynamic\n",
            "cluster-level setting search.low_level_cancellation to true. However, it comes\n",
            "with an additional overhead of more frequent cancellation checks that can be\n",
            "noticeable on large fast running search queries. Changing this setting only\n",
            "affects the searches that start after the change is made.\n",
            "\n",
            "Search concurrency and parallelism\n",
            "\n",
            "By default Elasticsearch doesn’t reject any search requests based on the number\n",
            "of shards the request hits. While Elasticsearch will optimize the search\n",
            "execution on the coordinating node a large number of shards can have a\n",
            "significant impact CPU and memory wise. It is usually a better idea to organize\n",
            "data in such a way that there are fewer larger shards. In case you would like to\n",
            "configure a soft limit, you can update the action.search.shard_count.limit\n",
            "cluster setting in order to reject search requests that hit too many shards.\n",
            "\n",
            "The request parameter max_concurrent_shard_requests can be used to control the\n",
            "maximum number of concurrent shard requests the search API will execute for the\n",
            "request. This parameter should be used to protect a single request from\n",
            "overloading a cluster (e.g., a default request will hit all indices in a cluster\n",
            "which could cause shard request rejections if the number of shards per node is\n",
            "high). This default is based on the number of data nodes in the cluster but at\n",
            "most 256.\n",
            "\n",
            "Search\n",
            "\n",
            "The search API allows you to execute a search query and get back search hits\n",
            "that match the query. The query can either be provided using a simple query\n",
            "string as a parameter, or using a request body.\n"
          ],
          "name": "stdout"
        }
      ]
    },
    {
      "cell_type": "markdown",
      "metadata": {
        "id": "hZqxbiSa_Lq6",
        "colab_type": "text"
      },
      "source": [
        "#### **b. Print Outputs**"
      ]
    },
    {
      "cell_type": "code",
      "metadata": {
        "id": "NAYO9ts82wKs",
        "colab_type": "code",
        "colab": {
          "base_uri": "https://localhost:8080/",
          "height": 1000
        },
        "outputId": "29783b52-cf1a-47a0-fd76-ccea8c91ae3b"
      },
      "source": [
        "with open('/content/output.txt') as fp:\n",
        "     line = fp.readline() \n",
        "     print(\"{}\".format(wrapper.fill(line)))"
      ],
      "execution_count": 19,
      "outputs": [
        {
          "output_type": "stream",
          "text": [
            "['search', 'with', 'the', 'When', 'executing', 'a', 'search,', 'pick', 'the',\n",
            "'the', 'data', 'on', 'the', 'replica', 'the', 'such', 'we', 'want', 'to',\n",
            "'search', 'only', 'on', 'the', 'for', 'specific', 'specify', 'as', 'the', 'the',\n",
            "'hitting', 'replica', 'size', 'the', 'the', 'data', 'replica', 'off,',\n",
            "'searches', 'the', 'index/indices', 'shards', 'A', 'search', 'search', 'body',\n",
            "'the', 'requests', 'the', 'The', 'using', 'the', 'cancelled', 'using',\n",
            "'cancellation', 'mechanism.', 'By', 'a', 'running', 'search', 'only', 'checks',\n",
            "'cancelled', 'not', 'on', 'the', 'cancellation', 'delayed', 'large',\n",
            "'segments.', 'search', 'cancellation', 'cancellation', 'checks', 'noticeable',\n",
            "'on', 'fast', 'search', 'searches', 'start', 'after', 'the', 'shards', 'the',\n",
            "'request', 'the', 'search', 'have', 'and', 'organize', 'data', 'shards.', 'you',\n",
            "'configure', 'requests', 'the', 'for', 'the', 'protect', 'a', 'cluster', 'a',\n",
            "'default', 'cause', 'execute', 'get', 'hits', 'using', 'with', 'search', 'on',\n",
            "'within', 'the', 'We', 'all', 'certain', 'Or', 'using', 'providing',\n",
            "'executing', 'The', 'parameters', 'allowed', 'in', 'the', 'URI', 'are:', 'The',\n",
            "'the', 'Query', 'String', 'Query', 'for', 'more', 'details).', 'to', 'Should',\n",
            "'prefix', 'be', 'analyzed', 'or', 'the', 'be', 'If', 'cause', 'contain', 'the',\n",
            "'the', 'the', 'The', 'the', 'document', 'any', 'Sorting', 'sort', 'parameters',\n",
            "'hits', 'The', 'collect', 'upon', 'reaching', 'terminate', 'early.', 'starting',\n",
            "'the', 'hits', 'size', 'the', 'for', 'more', 'details', 'on', 'the',\n",
            "'controlled', 'using', 'the', 'cluster-level', 'The', 'search', 'with', 'a',\n",
            "'search', 'DSL,', 'includes', 'A', 'canceled', 'mechanism.', 'timeout.', 'To',\n",
            "'size', 'The', 'hits', 'you', 'not', 'care', 'about', 'getting', 'hits',\n",
            "'about', 'matches', 'and/or', 'aggregations,', 'setting', 'will', 'help',\n",
            "'performance.', 'The', 'the', 'search', 'Set', 'the', 'search', 'results',\n",
            "'for', 'requests', 'size', 'and', 'suggestions', 'top', 'the', 'controlled',\n",
            "'using', 'the', 'cluster-level', 'The', 'collect', 'upon', 'reaching',\n",
            "'terminate', 'early.', 'the', 'Defaults', 'minimizing', 'cross-cluster',\n",
            "'search', 'requests.', 'See', 'Cross-cluster', 'search', 'reduction', 'phase',\n",
            "'for', 'more.', 'the', 'search', 'the', 'Both', 'execute', 'with', 'body.',\n",
            "'Since', 'Fast', 'check', 'matching', 'stops', 'as', 'well', 'as', 'hits',\n",
            "'collected', 'not', 'reflect', 'are', 'before', 'only', 'want', 'know',\n",
            "'matching', 'set', 'we', 'not', 'interested', 'in', 'the', 'set', 'to', 'the',\n",
            "'first', 'matching', 'found', 'hits', 'matching', 'the', 'the', 'in', 'Doc',\n",
            "'value', 'Fields', 'Allows', 'to', 'well', 'Doc', 'value', 'fields', 'work',\n",
            "'on', 'fields', 'regardless', 'stored', 'ending', 'with', 'try', 'load',\n",
            "'While', 'most', 'Date', 'fields', 'can', 'take', 'format.', 'Numeric', 'a',\n",
            "'DecimalFormat', 'By', 'default', 'fields', 'are', 'formatted', 'based', 'on',\n",
            "'a', 'sensible', 'that', 'on', 'their', 'double', 'fields', 'are', 'formatted',\n",
            "'numbers,', 'formatted', 'as', 'strings,', 'date', 'fields', 'are', 'with',\n",
            "'explanation', 'the', 'result', 'set', 'using', 'the', 'hits', 'field', 'for',\n",
            "'collapsing', 'must', 'be', 'activated', 'hits', 'expand', 'the', 'result',\n",
            "'set', 'using', 'the', 'hit', 'hits', 'the', 'the', 'the', 'result', 'set',\n",
            "'using', 'the', 'the', 'for', 'the', 'the', 'slow', 'Second', 'collapsing',\n",
            "'following', 'finds', 'Second', 'level', 'of', 'collapsing', 'doesn’t', 'allow',\n",
            "'inner_hits.', 'of', 'results', 'from', 'size', 'from', 'parameter', 'result',\n",
            "'want', 'to', 'hits', 'as', 'within', 'the', 'Note', 'than', 'the',\n",
            "'index.max_result_window', 'index', 'setting', 'which', 'to', '10,000.', 'the',\n",
            "'Highlighters', 'fields', 'in', 'your', 'search', 'results', 'show', 'the',\n",
            "'you', 'the', 'Highlighters', 'the', 'logic', 'a', 'to', 'highlighted', 'that',\n",
            "'the', 'the', 'get', 'highlights', 'hit', 'using', 'highlight', 'Elasticsearch',\n",
            "'vector', 'highlighter).', 'You', 'can', 'specify', 'the', 'The', 'unified',\n",
            "'highlighter', 'Unified', 'Highlighter.', 'This', 'the', 'into', 'sentences',\n",
            "'the', 'sentences', 'were', 'documents', 'It', '(fuzzy,', 'prefix,', 'regex)',\n",
            "'highlighting.', 'the', 'Lucene', 'reflect', 'matching', 'positioning', 'The',\n",
            "'highlighting', 'matches', 'the', 'criteria', 'through', 'planner', 'get',\n",
            "'Fast', 'The', 'the', 'on', 'with', 'Can', 'be', 'customized', 'Can', 'combine',\n",
            "'matches', 'from', 'multiple', 'fields', 'into', 'result.', 'See',\n",
            "'matched_fields', 'The', 'highlighter', 'not', 'support', 'span', 'queries.',\n",
            "'If', 'you', 'need', 'support', 'for', 'span', 'queries,', 'try', 'an', 'To',\n",
            "'create', 'meaningful', 'search', 'snippets', 'from', 'the', 'terms', 'being',\n",
            "'queried,', 'the', 'highlighter', 'needs', 'know', 'the', 'start', 'the',\n",
            "'original', 'obtained', 'without', 'the', 'from', 'the', 'highlighted',\n",
            "'highlighted.', 'Term', 'highlighting', 'multi-term', 'queries', 'like', 'it',\n",
            "'the', 'planner', 'get', 'boundary_chars', 'to', 'boundary_max_scan', 'the',\n",
            "'to', 'sentence', 'for', 'the', 'chars', 'chars', 'by', 'boundary_chars', 'as',\n",
            "'scan', 'characters.', 'highlighted', 'by', 'specify', 'When', 'with',\n",
            "'sentence', 'scanner', 'splits', 'sentences', 'bigger', 'at', 'the', 'word',\n",
            "'next', 'highlighted', 'by', 'for', 'of', 'a', 'be', 'found', 'in', 'the',\n",
            "'default', 'highlighting', 'retrieve', 'highlights', 'fields.', 'Only',\n",
            "'highlighted', 'based', 'on', 'the', 'even', 'the', 'is', 'stored',\n",
            "'separately.', 'to', 'false.', 'fragmenter', 'broken', 'up', 'the', 'from',\n",
            "'start', 'highlighting.', 'query', 'other', 'the', 'highlighting', 'by',\n",
            "'default.', 'Elasticsearch', 'does', 'not', 'validate', 'that', 'contains',\n",
            "'the', 'search', 'query', 'any', 'so', 'possible', 'define', 'it', 'so',\n",
            "'legitimate', 'query', 'results', 'are', 'not', 'highlighted.', 'you',\n",
            "'include', 'the', 'query', 'the', 'Combine', 'matches', 'on', 'multiple',\n",
            "'fields', 'to', 'highlight', 'a', 'single', 'field.', 'This', 'is', 'most',\n",
            "'intuitive', 'for', 'multifields', 'that', 'analyze', 'string', 'in',\n",
            "'different', 'ways.', 'All', 'matched_fields', 'must', 'have', 'term_vector',\n",
            "'set', 'to', 'with_positions_offsets,', 'but', 'only', 'the', 'field', 'to',\n",
            "'which', 'the', 'matches', 'combined', 'is', 'loaded', 'so', 'only', 'that',\n",
            "'field', 'benefits', 'from', 'having', 'store', 'set', 'to', 'yes.', 'Only',\n",
            "'valid', 'the', 'highlighter.', 'no_match_size', 'The', 'text', 'you', 'want',\n",
            "'to', 'return', 'from', 'beginning', 'the', 'field', 'if', 'there', 'no',\n",
            "'matching', 'fragments', 'to', 'highlight.', 'Defaults', 'to', '0', '(nothing',\n",
            "'returned).', 'number_of_fragments', 'The', 'maximum', 'fragments', 'to',\n",
            "'return.', 'If', 'the', 'fragments', 'is', 'set', '0,', 'fragments', 'are',\n",
            "'returned.', 'Instead,', 'entire', 'field', 'contents', 'highlighted',\n",
            "'returned.', 'This', 'handy', 'highlight', 'short', 'texts', 'a', 'title', 'or',\n",
            "'address,', 'but', 'fragmentation', 'is', 'not', 'required.', 'If',\n",
            "'number_of_fragments', 'is', '0,', 'fragment_size', 'is', 'ignored.',\n",
            "'Defaults', 'to', '5.', 'order', 'highlighted', 'by', 'the', 'the', 'How',\n",
            "'work', 'more', 'details', 'find', 'the', 'fragments.', 'phrase_limit',\n",
            "'matching', 'phrases', 'in', 'a', 'document', 'that', 'are', 'considered.',\n",
            "'Prevents', 'the', 'much', 'memory.', 'tags', 'match', 'type', 'highlight',\n",
            "'Set', 'highlighter', 'type', 'Configure', 'highlighting', 'tags', 'source',\n",
            "'highlighted', 'list', 'You', 'for', 'highlight', 'following', 'the', 'Set',\n",
            "'highlighter', 'type', 'The', 'type', 'force', 'specific', 'highlighter',\n",
            "'type.', 'The', 'allowed', 'The', 'following', 'is', 'an', 'Configure',\n",
            "'highlighting', 'tags', 'the', 'highlighting', 'you', 'additional', 'tags',\n",
            "'the', 'You', 'can', 'also', 'use', 'the', 'styled', 'tag', 'schema:', 'on',\n",
            "'source', 'on', 'the', 'source', 'By', 'match', 'This', 'the', 'highlight',\n",
            "'to', 'following', 'examples,', 'comment', 'is', 'analyzed', 'by', 'the',\n",
            "'english', 'analyzer', 'comment.plain', 'is', 'analyzed', 'by', 'The', 'above',\n",
            "'both', 'not', 'phrases', 'appear', 'in', 'a', 'large', 'document', 'above',\n",
            "'in', 'the', 'fragments', 'list', 'matches', 'The', 'with', 'off', 'the',\n",
            "'Elasticsearch', 'highlights', 'the', 'you', 'explicit', 'about', 'in', 'are',\n",
            "'highlighted', 'specify', 'the', 'as', 'into', 'care', 'about', 'highlighted',\n",
            "'highlighted', 'top', 'it', 'to', 'are', 'the', 'handy', 'short', 'title',\n",
            "'need', 'highlighted', 'When', 'using', 'start', 'highlighting', 'from.', 'to',\n",
            "'not', 'the', 'the', 'length', 'the', 'that', 'you', 'want', 'returned.',\n",
            "'break', 'on', 'list', 'Here', 'is', 'an', 'comment', 'highlighting', 'is',\n",
            "'an', 'example', 'setting', 'the', 'comment', 'field', 'allow', 'highlighting',\n",
            "'the', 'How', 'work', 'the', 'How', 'break', 'Relevant', 'of', 'highlighter,',\n",
            "'boundary_chars,', 'Plain', 'with', 'the', 'creating', 'from', 'break',\n",
            "'breaking', 'a', 'as', 'long', 'a', 'highlighter', 'creates', 'an', 'in-memory',\n",
            "'index', 'from', 'the', 'current', 'token', 'stream,', 'and', 're-runs', 'the',\n",
            "'original', 'query', 'criteria', 'through', 'query', 'planner', 'get', 'match',\n",
            "'information', 'more', 'queries', 'the', 'original', 'match', 'fragment.',\n",
            "'terms', 'a', 'fragment', 'query', 'term,', 'will', 'get', 'a', 'get', 'The',\n",
            "'fragments', 'analyze', 'the', 'text', 'build', 'an', 'index,', 'uses',\n",
            "'document', 'finds', 'among', 'terms', 'not', 'only', 'Unified', 'terms',\n",
            "'Relevant', 'highlight', 'only', 'those', 'hit', 'the', 'A', 'highlighter',\n",
            "'pre-tags,', 'post-tags', 'to', 'encode', 'highlighted', 'terms.', 'look', 'in',\n",
            "'more', 'details', 'how', 'First,', 'create', 'with', 'text', 'field', 'using',\n",
            "'offsets', 'And', 'following', 'After', 'highlighting',\n",
            "'{\"token\":\"onli\",\"start_offset\":12,\"end_offset\":16,\"position\":3},',\n",
            "'{\"token\":\"onli\",\"start_offset\":159,\"end_offset\":163,\"position\":34},', 'will',\n",
            "'be', 'the', 'are', 'looking', 'in', 'given', 'order.', 'The', 'span', 'query',\n",
            "'be', 'against', 'before', 'find', '{\"term\":\"onli\",', '\"end_offset\":167}In',\n",
            "'our', 'matches.', 'the', 'Each', 'passage', 'contain', 'match.', 'The',\n",
            "'unified', 'with', 'the', 'Java’s', 'BreakIterator', 'that', 'passage',\n",
            "'represents', 'a', 'full', 'sentence', 'as', 'long', 'it', 'doesn’t', 'exceed',\n",
            "'fragment_size.', 'For', 'our', 'with', 'properties', 'for', 'allow', 'us',\n",
            "'to', 'the', 'available', 'than', 'the', 'by', 'the', 'let', 'by', 'As',\n",
            "'extract', 'from', 'the', 'field’s', 'text', 'a', '\"I\\'ll', 'the', 'with',\n",
            "'the', 'tags', \"I'll\", 'the', 'in', 'the', 'for', 'you.This', 'kind', 'of',\n",
            "'formatted', 'strings', 'are', 'the', 'final', 'result', 'the', 'user.',\n",
            "'Allows', 'handy', 'hits', 'social', 'Deprecated', 'You', 'can', 'This', 'are',\n",
            "'The', 'parent-join', 'nested', 'features', 'allow', 'documents', 'matches',\n",
            "'different', 'scope.', 'In', 'the', 'parent/child', 'case,', 'documents',\n",
            "'documents', 'documents', 'on', 'matches', 'documents.', 'the', 'documents',\n",
            "'on', 'the', 'documents', 'the', 'hits', 'the', 'search', 'hits', 'Inner',\n",
            "'hits', 'can', 'by', 'defining', 'inner_hits', 'on', 'a', 'looks', 'like', 'If',\n",
            "'on', 'a', 'that', 'it', 'hit', 'contain', 'Inner', 'hits', 'size', 'The', 'By',\n",
            "'How', 'hits', 'the', 'hits', 'The', 'hit', 'the', 'hits', 'in', 'hit', 'query',\n",
            "'and', 'filter', 'the', 'and', 'and', 'filter', 'Source', 'filtering', 'Script',\n",
            "'Doc', 'versions', 'Include', 'Nested', 'hits', 'hits', 'to', 'a', 'search',\n",
            "'The', 'hit', 'example', 'a', 'generated', 'from', 'above', 'the', 'the',\n",
            "'above', 'the', 'hit', 'filtering', 'the', 'fields', 'are', 'defined', 'nested',\n",
            "'hits', 'above', 'hit', 'not', 'the', 'entire', 'source', 'the', 'document',\n",
            "'hits', 'Nested', 'document', 'the', 'entire', 'source', 'document', 'stored',\n",
            "'with', 'root', 'under', 'its', '_source', 'field.', 'include', 'the', 'of',\n",
            "'just', 'the', 'nested', 'the', 'the', 'included', 'as', 'source', 'document',\n",
            "'execute', 'the', 'entire', 'search', 'especially', 'avoid', 'source',\n",
            "'extraction', 'for', 'nested', 'the', 'doc', 'Hierarchical', 'nested', 'object',\n",
            "'fields', 'mapping', 'hierarchical', 'nested', 'object', 'fields', 'be',\n",
            "'accessed', 'via', 'dot', 'For', 'comments', 'with', 'hits', 'following',\n",
            "'Which', 'This', 'indirect', 'referencing', 'only', 'Parent/child', 'hits',\n",
            "'The', 'parent/child', 'inner_hits', 'include', 'parent', 'or', 'child:', 'hit',\n",
            "'example', 'a', 'generated', 'from', 'above', 'in', 'Each', 'filter', 'The',\n",
            "'search', 'response', 'will', 'include', 'for', 'hit', 'filter', 'hits', 'end',\n",
            "'of', 'a', 'you', 'are', 'selling', 'brand:gucci.', 'You', 'only', 'want', 'to',\n",
            "'show', 'them', 'red', 'shirts', 'made', 'by', 'Gucci', 'in', 'the', 'search',\n",
            "'results.', 'Normally', 'with', 'However,', 'a', 'options', 'that', 'the',\n",
            "'user', 'click', 'on.', 'model', 'field', 'that', 'by', 'But', 'perhaps', 'you',\n",
            "'would', 'also', 'like', 'to', 'tell', 'the', 'user', 'shirts', 'are',\n",
            "'available', 'in', 'other', 'terms', 'on', 'the', 'you', 'will', 'only', 'get',\n",
            "'your', 'by', 'Instead,', 'you', 'want', 'to', 'include', 'shirts', 'of', 'all',\n",
            "'colors', 'during', 'aggregation,', 'then', 'apply', 'the', 'colors', 'filter',\n",
            "'only', 'to', 'the', 'search', 'results.', 'This', 'is', 'the', 'purpose',\n",
            "'the', 'post_filter:', 'The', 'main', 'now', 'finds', 'by', 'The', 'colors',\n",
            "'agg', 'popular', 'colors', 'for', 'shirts', 'by', 'Gucci.', 'The', 'red',\n",
            "'Gucci', 'shirts.', 'Finally,', 'the', 'post_filter', 'colors', 'other', 'red',\n",
            "'from', 'the', 'search', 'hits.', 'shard', 'route', 'The', 'is', 'a', 'be',\n",
            "'on', 'with', 'of', 'the', 'provided', 'node', 'or', 'in', 'this', 'copies',\n",
            "'the', 'the', 'copies', 'according', 'suitable', 'copies', 'Custom', 'Any',\n",
            "'that', 'not', 'start', 'with', 'searches', 'give', 'custom', 'their',\n",
            "'cluster', 'not', 'the', 'same', 'ordering', 'shards', 'will', 'be', 'used',\n",
            "'for', 'the', 'searches.', 'does', 'not', 'guarantee', 'shards', 'be', 'the',\n",
            "'nodes', 'reject', 'searches', 'causing', 'shards', 'good', 'candidate', 'a',\n",
            "'custom', 'preference', 'is', 'something', 'like', 'the', 'the', 'For',\n",
            "'instance,', 'use', 'the', 'user’s', 'session', 'ID', 'xyzabc123', 'as',\n",
            "'follows:', 'The', 'yield', 'within', 'the', 'help', 'to', 'improve', 'by',\n",
            "'the', 'Currently', 'the', 'the', 'to', 'the', 'the', 'for', 'An', 'error',\n",
            "'will', 'be', 'an', 'is', 'with', 'step', 'through', 'the', 'The', 'Multiply',\n",
            "'the', 'original', 'the', 'rescore', 'It', 'The', 'the', 'by', 'Allows',\n",
            "'fields', 'on', 'Script', 'fields', 'specific', 'it', \"params['_source'].\",\n",
            "'Here', 'the', 'the', 'using', 'the', 'doc', 'fields.', 'using', 'doc', 'the',\n",
            "'scrolling', 'from', 'In', 'order', 'to', 'use', 'scrolling,', 'the', 'initial',\n",
            "'search', 'request', 'should', 'specify', 'the', 'the', 'search', 'above',\n",
            "'the', 'not', 'include', 'the', 'name', 'in', 'the', 'original', 'search',\n",
            "'request', 'The', 'scroll', 'parameter', 'tells', 'The', 'scroll_id',\n",
            "'parameter', 'The', 'size', 'parameter', 'allows', 'you', 'to', 'configure',\n",
            "'results.', 'results', 'to', 'return,', 'the', 'hits', 'The', 'search', 'If',\n",
            "'the', 'specifies', 'aggregations,', 'only', 'search', 'contain', 'sort', 'the',\n",
            "'to', 'tells', 'keep', 'the', 'search', 'context', ')', 'long', 'long',\n",
            "'scroll', 'the', 'search', 'context', 'part', 'Normally,', 'the', 'smaller',\n",
            "'open', 'search', 'context', 'prevents', 'old', 'from', 'Keeping', 'older',\n",
            "'alive', 'means', 'more', 'file', 'handles', 'are', 'needed.', 'Ensure', 'that',\n",
            "'you', 'your', 'ample', 'free', 'To', 'the', 'open', 'updated', 'with', 'You',\n",
            "'check', 'search', 'contexts', 'are', 'with', 'stats', 'API:', 'Search',\n",
            "'context', 'are', 'automatically', 'removed', 'the', 'exceeded.', 'However',\n",
            "'in', 'the', 'previous', 'section', 'be', 'explicitly', 'cleared', 'as', 'soon',\n",
            "'not', 'being', 'used', 'anymore', 'using', 'Multiple', 'be', 'passed', 'All',\n",
            "'search', 'contexts', 'can', 'be', 'cleared', 'with', 'the', 'The', 'as', 'a',\n",
            "'string', 'or', 'in', 'the', 'split', 'slices', 'slices', 'slices', 'without',\n",
            "'By', 'using', 'the', 'the', 'slices', 'slices', 'the', 'slice', 'on', 'the',\n",
            "'filter', 'sliced', 'to', 'do', 'The', 'field', 'is', 'numeric.', 'Every', 'a',\n",
            "'document', 'The', 'document', 'the', 'document', 'created', 'the', 'For',\n",
            "'the', 'Pagination', 'is', 'a', 'safeguard,', 'search', 'it', 'the', 'results',\n",
            "'from', 'help', 'the', 'Suppose', 'first', 'A', 'with', 'doc_values', 'field',\n",
            "'should', 'be', 'used', 'as', 'the', 'tiebreaker', 'of', 'the', 'sort',\n",
            "'specification.', 'Otherwise', 'the', 'sort', 'order', 'documents', 'that',\n",
            "'have', 'sort', 'values', 'missing', 'duplicate', 'results.', 'not', 'use',\n",
            "'it', 'as', 'a', 'tiebreaker', 'for', 'the', 'first', 'document',\n",
            "'tiebreaker’s', 'value.', 'a', 'document', 'that', 'after', 'doc', 'disabled',\n",
            "'this', 'load', 'The', 'result', 'from', 'above', 'conjunction', 'start',\n",
            "'returning', 'results', 'any', 'document', 'in', 'the', 'The', 'parameter',\n",
            "'from', 'must', 'be', 'set', 'to', '0', 'is', 'used.', 'There', 'done', 'when',\n",
            "'executing', 'results', 'doing', 'specifically', 'One', 'the', 'questions',\n",
            "'with', 'get', 'sort', 'the', 'getting', 'large', 'even', 'scrolling', 'by',\n",
            "'the', 'not', 'The', 'shards.', 'into', 'the', 'document', 'content',\n",
            "'highlighted', 'This', 'not', 'Dfs,', 'Same', 'following', 'index', 'besides',\n",
            "'order.', 'So', 'if', 'you', 'don’t', 'care', 'about', 'the', 'should', 'sort',\n",
            "'by', '_doc.', 'scrolling.', 'The', 'sort', 'order', 'option', 'can', 'have',\n",
            "'Sort', 'order', 'Sort', 'The', 'on', 'the', 'Sort', 'Elasticsearch', 'The',\n",
            "'mode', 'option', 'Use', 'Use', 'sort', 'Use', 'sort', 'The', 'sort', 'in',\n",
            "'sort', 'the', 'highest', 'mode', 'example', 'usage', 'In', 'the', 'example',\n",
            "'below', 'the', 'this', 'the', 'result', 'hits', 'be', 'sorted', 'by', 'price',\n",
            "'Sorting', 'Elasticsearch', 'nested', 'field', 'following', 'on', 'actual',\n",
            "'sort', 'direct', 'match', 'by', 'repeat', '/', 'filter', 'By', 'consider',\n",
            "'sort', 'options', 'documented', 'above.', 'Nested', 'sorting', 'examples',\n",
            "'In', 'the', 'below', 'example', 'offer', 'is', 'field', 'type', 'nested.',\n",
            "'path', 'needs', 'In', 'the', 'below', 'example', 'parent', 'of', 'The',\n",
            "'missing', 'custom', 'for', 'missing', 'If', 'a', 'nested', 'inner', 'match',\n",
            "'with', 'the', 'nested_filter', 'a', 'missing', 'is', 'used.', 'associated',\n",
            "'with', 'a', 'field.', 'unmapped_type', 'option', 'sort', 'by', 'have',\n",
            "'handle', 'with', 'Allow', 'by', '_geo_distance.', 'is', 'compute', 'the', 'a',\n",
            "'field', 'missing', 'the', 'search', 'to', 'fail).', 'configurable', 'missing',\n",
            "'values:', 'a', 'document', 'not', 'have', 'values', 'The', 'Lat', 'Lat', 'Lat',\n",
            "'the', 'Multiple', 'containing', 'for', 'example', 'final', 'distance', 'for',\n",
            "'a', 'document', 'be', 'contained', 'in', 'the', 'Allow', 'are', 'not',\n",
            "'computed.', 'By', 'When', 'sorted', 'values', 'are', 'loaded', 'into', 'that',\n",
            "'per', 'shard,', 'contain', 'them.', 'For', 'string', 'based', 'types,', 'the',\n",
            "'sorted', 'on', 'not', 'analyzed', 'set', 'the', 'narrower', 'Source',\n",
            "'filtering', 'default', 'you', 'have', 'the', 'parameter', 'or', 'the', 'You',\n",
            "'can', '_source', 'retrieval', 'by', 'using', 'the', '_source', 'parameter:',\n",
            "'To', 'disable', '_source', 'retrieval', 'set', 'to', 'false:', 'for',\n",
            "'complete', 'you', 'can', 'specify', 'both', 'includes', 'generally', 'not',\n",
            "'recommended.', 'source', 'the', 'original', 'document', 'be', 'Allows',\n",
            "'selectively', 'load', 'represented', 'by', 'a', 'search', 'An', 'will', 'If',\n",
            "'not', 'Stored', 'field', 'values', 'fetched', 'from', 'the', 'document',\n",
            "'itself', 'always', 'as', 'an', 'array.', 'On', 'the', 'like', 'Also', 'via',\n",
            "'the', 'So', 'Script', 'also', 'be', 'automatically', 'detected', 'and', 'as',\n",
            "'not', 'Disable', 'To', 'disable', 'the', '(and', 'metadata', 'fields)',\n",
            "'entirely', 'use:', '_none_:', '_source', 'and', 'version', 'parameters',\n",
            "'cannot', 'be', 'activated', 'used.', 'Generally', 'hit', 'be', 'without',\n",
            "'visiting', 'all', 'matches,', 'queries', 'documents.', 'you', 'tracked.',\n",
            "'Given', 'that', 'lower', 'requests', 'speed', 'up', 'searches', 'don’t',\n",
            "'need', 'the', 'hits', 'search', 'hits', 'match', 'the', 'hits', 'match', 'the',\n",
            "'...', 'hits', 'the', 'The', 'accurate', '(e.g.', '\"eq\"', 'means', 'equals).',\n",
            "'following', 'accurately', 'track', 'hit', 'in', 'the', 'accurate', 'following',\n",
            "'If', 'his', 'match', 'the', 'in', 'hits', 'lower', 'improve', '...', 'The',\n",
            "'Finally', 'you', 'the', 'search', 'more', 'information', 'on', 'check', 'the',\n",
            "'online', 'documentation', 'the', 'mustache', 'in', 'Elasticsearch', 'as',\n",
            "'hence', 'it', 'obeys', 'in', 'the', 'More', 'template', 'examples',\n",
            "'Converting', 'parameters', 'JSON', 'The', 'A', 'more', 'complex', 'Default',\n",
            "'A', 'default', 'value', 'is', 'written', 'as', 'When', '{', '15', 'this',\n",
            "'query', 'But', 'this', 'the', 'default', 'clauses', 'Conditional', 'clauses',\n",
            "'be', 'expressed', 'using', 'the', 'JSON', 'form', 'of', 'the', 'template.',\n",
            "'Instead,', 'the', 'template', 'must', 'be', 'passed', 'as', 'a', 'string.',\n",
            "'For', 'run', 'a', 'on', 'the', 'field,', 'filter', 'by', 'line', 'The',\n",
            "'would', 'look', 'like:', 'We', 'could', 'write', 'the', 'the', 'only',\n",
            "'specified', 'the', 'clause', 'only', 'specified', 'a', 'comma', 'after', 'the',\n",
            "'clause', 'only', 'line_no.start', 'AND', 'are', 'specified', 'the', 'clause',\n",
            "'only', 'specified', 'As', 'template', 'markers', 'like', ')', 'the', 'As',\n",
            "'template', 'You', 'can', 'register', 'search', 'templates', 'by', 'using',\n",
            "'the', 'stored', 'scripts', 'api.', 'To', 'use', 'template', 'This', 'status',\n",
            "'with', 'from', 'also', 'be', 'using', 'You', 'explain', 'parameter', 'You',\n",
            "'profile', 'parameter', 'template', 'API', 'template', 'The', 'header', 'part',\n",
            "'options', 'The', 'Inline', 'search', 'template', 'request', 'template',\n",
            "'which', 'template', 'template', 'matching', 'in', 'template', 'there', 'a',\n",
            "'complete', 'failure', 'for', 'that', 'specific', 'search', 'template', 'place',\n",
            "'search', 'shards', 'the', 'shards', 'a', 'search', 'request', 'executed',\n",
            "'give', 'with', 'This', 'with', 'This', 'shards,', 'shards', 'a', 'request',\n",
            "'be', 'executed', 'Controls', 'a', 'preference', 'of', 'which', 'shard',\n",
            "'execute', 'the', 'search', 'on.', 'By', 'default,', 'shard', 'replicas.',\n",
            "'the', 'shards', 'are', 'on', 'The', 'request', 'part', 'alongside', 'part',\n",
            "'in', 'part', '_suggest', '5.0,', 'the', 'search', 'response', 'example', 'the',\n",
            "'found', 'Each', 'options', 'the', 'The', 'in', 'the', 'above', 'example',\n",
            "'also', 'In', 'order', 'to', 'understand', 'the', 'format', 'of',\n",
            "'suggestions,', 'please', 'read', 'the', 'Suggesters', 'page', 'first.', 'The',\n",
            "'term', 'suggester', 'distance.', 'suggest', 'text', 'is', 'analyzed', 'before',\n",
            "'terms', 'are', 'suggested.', 'The', 'provided', 'per', 'suggest', 'text',\n",
            "'token.', 'The', 'suggester', 'the', 'into', 'Common', 'The', 'the',\n",
            "'candidate', 'to', 'analyse', 'the', 'suggest', 'text', 'to', 'the', 'search',\n",
            "'of', 'the', 'size', 'The', 'Defines', 'how', 'suggestions', 'be', 'sorted',\n",
            "'suggest', 'text', 'term.', 'Two', 'possible', 'values:', 'by', 'the',\n",
            "'frequency:', 'by', 'document', 'frequency', 'similarity', 'the', 'itself.',\n",
            "'The', 'suggest', 'mode', 'controls', 'what', 'suggestions', 'included',\n",
            "'controls', 'text', 'suggestions', 'missing:', 'Only', 'provide', 'suggestions',\n",
            "'text', 'terms', 'not', 'in', 'the', 'index.', 'the', 'popular:', 'Only',\n",
            "'than', 'original', 'suggest', 'text', 'term.', 'always:', 'any', 'on', 'in',\n",
            "'the', 'Other', 'terms', 'after', 'The', 'edit', 'suggestions', 'can', 'have',\n",
            "'order', 'be', 'considered', 'as', 'a', 'be', 'The', 'minimal', 'prefix',\n",
            "'characters', 'that', 'match', 'in', 'order', 'be', 'a', 'candidate',\n",
            "'suggestions.', 'to', '1.', 'Increasing', 'in', 'the', 'beginning', '(Old',\n",
            "'name', 'is', 'deprecated)', 'The', 'minimum', 'suggest', 'text', 'term',\n",
            "'have', 'Sets', 'be', 'retrieved', 'from', 'each', 'the', 'document',\n",
            "'frequency', 'the', 'text', 'document', 'frequencies.', 'Which', 'string',\n",
            "'distance', 'implementation', 'to', 'use', 'for', 'are.', 'specified:',\n",
            "'inside', '-', 'distance', 'algorithm', 'based', 'on', '-', 'jaro_winkler', '-',\n",
            "'distance', 'algorithm', 'based', 'on', '-', 'distance', 'algorithm', 'In',\n",
            "'order', 'to', 'understand', 'the', 'format', 'of', 'suggestions,', 'please',\n",
            "'read', 'the', 'Suggesters', 'page', 'first.', 'The', 'the', 'the', 'special',\n",
            "'up', 'suggester', 'examples', 'on', 'this', 'page', 'Once', 'the', 'up', 'you',\n",
            "'can', 'use', 'the', 'phrase', 'suggester', 'suggester:', 'The', 'contains',\n",
            "'suggestions', 'by', 'the', 'spell', 'correction', 'first.', 'In', 'this',\n",
            "'the', 'Basic', 'Phrase', 'suggest', 'API', 'parameters', 'The', 'the',\n",
            "'suggester', 'the', 'contain', 'not', 'The', 'a', 'term', 'being', 'a', 'even',\n",
            "'if', 'the', 'term', 'in', 'the', 'dictionary.', 'The', 'default', 'is',\n",
            "'0.95,', 'the', 'confidence', 'confidence', 'phrases', 'be', 'included', 'in',\n",
            "'confidence', 'only', 'negatively', 'performance.', 'The', 'not', 'size', 'The',\n",
            "'for', 'term.', 'results.', 'the', 'Sets', 'from', 'highlight', 'Sets', 'each',\n",
            "'against', 'the', 'to', 'prune', 'suggestions', 'for', 'which', 'no',\n",
            "'matching', 'docs', 'exist', 'in', 'the', 'The', 'query', 'for', 'a',\n",
            "'suggestion', 'is', 'run', 'only', 'on', 'from', 'the', 'been', 'generated',\n",
            "'be', 'specified', 'search', 'available', 'the', 'in', 'your', 'matching',\n",
            "'documents', 'This', 'be', 'The', 'An', 'All', 'suggestions', 'the',\n",
            "'generated', 'grams', '(grams', 'A', 'model', 'n-gram', 'models', 'order', 'by',\n",
            "'default', 'discount', 'the', 'A', 'smoothing', 'smoothing', 'A', 'smoothing',\n",
            "'Linear', 'Interpolation', 'doesn’t', 'have', 'values.', 'All', 'parameters',\n",
            "'(trigram_lambda,', 'bigram_lambda,', 'unigram_lambda)', 'supplied.', 'produce',\n",
            "'text.', 'the', 'with', 'suggestion', 'type', 'candidate', 'generator', 'the',\n",
            "'The', 'The', 'the', 'candidate', 'size', 'The', 'The', 'test', 'not', 'even',\n",
            "'filtered', 'missing:', 'generate', 'suggestions', 'in', 'the', 'shard.', 'the',\n",
            "'Only', 'always:', 'any', 'on', 'in', 'the', 'edit', 'suggestions', 'have',\n",
            "'order', 'be', 'considered', 'as', 'a', 'The', 'minimal', 'prefix',\n",
            "'characters', 'that', 'match', 'in', 'order', 'be', 'a', 'candidate',\n",
            "'suggestions.', 'to', '1.', 'Increasing', 'in', 'the', 'beginning', '(Old',\n",
            "'name', 'is', 'deprecated)', 'The', 'minimum', 'suggest', 'text', 'term',\n",
            "'have', 'documents', 'represent', 'document', 'frequencies.', 'following',\n",
            "'example', 'shows', 'inject', 'synonyms', 'generated.', 'might', 'generate',\n",
            "'candidate', 'for', 'the', 'usq,', 'a', 'synonym', 'us', 'the', 'this', 'In',\n",
            "'order', 'to', 'understand', 'the', 'format', 'of', 'suggestions,', 'please',\n",
            "'read', 'the', 'Suggesters', 'page', 'first.', 'The', 'completion', 'suggester',\n",
            "'provides', 'auto-complete/search-as-you-type', 'guide', 'to', 'relevant',\n",
            "'results', 'are', 'typing,', 'improving', 'search', 'precision.', 'Ideally,',\n",
            "'fast', 'as', 'a', 'user', 'types', 'provide', 'what', 'a', 'user', 'typed',\n",
            "'in.', 'fast', 'build', 'To', 'use', 'this', 'feature,', 'specify', 'special',\n",
            "'mapping', 'for', 'this', 'field,', 'fast', 'Mapping', 'following',\n",
            "'parameters:', 'The', 'to', 'use,', 'The', 'to', 'use,', 'to', 'Preserves',\n",
            "'the', 'true.', 'If', 'you', 'could', 'find', 'a', 'field', 'starting', 'with',\n",
            "'you', 'suggest', 'for', 'Enables', 'with', 'Beatles', 'This', 'from',\n",
            "'bloating', 'the', 'underlying', 'datastructure.', 'Most', 'use', 'cases',\n",
            "'You', 'like', 'be', 'scored.', 'The', 'following', 'parameters', 'are', 'just',\n",
            "'You', 'You', 'can', 'use', 'the', 'following', 'shorthand', 'form.', 'Note',\n",
            "'that', 'you', 'can', 'not', 'specify', 'a', 'with', 'in', 'the', 'form.',\n",
            "'works', 'as', 'usual,', 'except', 'that', 'you', 'have', 'to', 'specify',\n",
            "'the', 'suggest', 'type', 'visible', 'by', 'documents', 'once', 'deleted',\n",
            "'never', '_source', 'The', 'a', 'suggestion', 'as', 'the', 'your', 'indexed',\n",
            "'filter', 'fields', 'the', 'source', 'filtering', 'minimize', '_source',\n",
            "'size.', 'Note', 'that', 'the', '_suggest', 'endpoint', 'support', 'source',\n",
            "'filtering', 'on', 'the', 'Which', 'should', 'look', 'The', 'completion',\n",
            "'query', 'supports', 'following', 'run', 'the', 'size', 'The', 'Whether',\n",
            "'duplicate', 'suggestions', 'filtered', 'documents', 'in', 'for', 'an',\n",
            "'explanation', 'documents', 'In', 'the', 'phase', 'the', 'documents', 'the',\n",
            "'index', 'break', 'for', 'Skip', 'duplicate', 'suggestions', 'Queries',\n",
            "'suggestions', 'documents.', 'It', 'possible', 'modify', 'this', 'behavior',\n",
            "'this', 'filters', 'documents', 'with', 'duplicate', 'suggestions', 'to',\n",
            "'slow', 'down', 'search', 'more', 'be', 'visited', 'to', 'find', 'the', 'The',\n",
            "'completion', 'also', 'fuzzy', 'queries', 'have', 'a', 'in', 'your', 'search',\n",
            "'get', 'results', 'Suggestions', 'The', 'fuzzy', 'query', 'can', 'take',\n",
            "'specific', 'fuzzy', 'parameters.', 'The', 'following', 'parameters', 'are',\n",
            "'The', 'to', 'See', 'Fuzziness', 'for', 'allowed', 'settings.', 'Minimum',\n",
            "'length', 'the', 'before', 'fuzzy', 'suggestions', 'Minimum', 'the', 'not',\n",
            "'fuzzy', 'If', 'fuzzy', 'Unicode', 'code', 'The', 'completion', 'regex',\n",
            "'queries', 'express', 'a', 'prefix', 'as', 'a', 'regular', 'expression', 'The',\n",
            "'query', 'take', 'specific', 'regex', 'parameters.', 'The', 'following',\n",
            "'parameters', 'are', 'supported:', 'Possible', 'ALL', '(default),',\n",
            "'ANYSTRING,', 'COMPLEMENT,', 'EMPTY,', 'INTERSECTION,', 'INTERVAL,', 'or',\n",
            "'See', 'regexp-syntax', 'for', 'their', 'Regular', 'expressions', 'are',\n",
            "'dangerous', 'because', 'it’s', 'easy', 'to', 'accidentally', 'create', 'an',\n",
            "'innocuous', 'looking', 'one', 'that', 'internal', 'determinized', 'automaton',\n",
            "'regular', 'expressions', 'to', 'execute.', 'serve', 'suggestions', 'To',\n",
            "'suggestion', 'filtering', 'and/or', 'boosting,', 'you', 'add', 'context',\n",
            "'mappings', 'while', 'configuring', 'a', 'completion', 'field.', 'You',\n",
            "'multiple', 'context', 'mappings', 'for', 'completion', 'context', 'name', 'a',\n",
            "'type.', 'types:', 'category', 'It', 'is', 'provide', 'a', 'context', 'a',\n",
            "'context', 'completion', 'The', 'following', 'context', 'mappings', 'for', 'a',\n",
            "'completion', 'field:', 'Defines', 'a', 'category', 'context', 'named',\n",
            "'place_type', 'where', 'the', 'with', 'a', 'geo', 'context', 'named',\n",
            "'location', 'where', 'the', 'be', 'Defines', 'a', 'category', 'context',\n",
            "'named', 'place_type', 'where', 'the', 'a', 'context', 'named', 'location',\n",
            "'the', 'Adding', 'context', 'mappings', 'increases', 'the', 'index', 'size',\n",
            "'for', 'completion', 'field.', 'The', 'completion', 'index', 'is', 'entirely',\n",
            "'heap', 'resident,', 'you', 'can', 'monitor', 'the', 'completion', 'field',\n",
            "'index', 'size', 'using', 'Indices', 'Stats.', 'category', 'context', 'with',\n",
            "'suggestions', 'index', 'set', 'up', 'like', 'path', 'is', 'the', 'categories',\n",
            "'If', 'categories', 'explicitly', 'Suggestions', 'filtered', 'following',\n",
            "'filters', 'on', 'the', 'merged', 'as', 'a', 'Suggestions', 'certain',\n",
            "'categories', 'others.', 'following', 'filters', 'suggestions', 'by',\n",
            "'categories', 'context', 'filter', 'with', 'restaurants', 'In', 'to',\n",
            "'accepting', 'category', 'values,', 'a', 'context', 'query', 'multiple',\n",
            "'category', 'context', 'clauses.', 'The', 'following', 'parameters', 'for', 'a',\n",
            "'category', 'context', 'The', 'the', 'category', 'to', 'filter/boost', 'on.',\n",
            "'This', 'boost', 'The', 'by', 'the', 'the', 'be', 'prefix', 'Whether', 'the',\n",
            "'category', 'should', 'be', 'treated', 'as', 'a', 'prefix', 'or', 'not.', 'For',\n",
            "'example,', 'set', 'to', 'true,', 'you', 'can', 'filter', 'category', 'by',\n",
            "'specifying', 'a', 'category', 'prefix', 'a', 'suggestion', 'entry', 'matches',\n",
            "'final', 'Geo', 'location', 'as', 'addition', 'to', 'the', 'setting,',\n",
            "'context', 'mapping', 'accepts', 'following', 'The', 'setting', 'sets', 'at',\n",
            "'time.', 'Indexing', 'geo', 'contexts', 'with', 'the', 'Geo', 'location',\n",
            "'following', 'on', 'the', 'merged', 'as', 'a', 'by', 'filters', 'a',\n",
            "'suggestion', 'entry', 'matches', 'final', 'In', 'addition', 'to', 'accepting',\n",
            "'context', 'values,', 'a', 'context', 'query', 'composed', 'of', 'multiple',\n",
            "'context', 'clauses.', 'following', 'parameters', 'for', 'a', 'category',\n",
            "'context', 'clause:', 'a', 'to', 'filter', 'or', 'boost', 'the', 'suggestion',\n",
            "'boost', 'The', 'by', 'the', 'the', 'be', 'The', 'parse', 'following', 'In',\n",
            "'the', 'NOTE:', 'end', 'with', 'The', 'header', 'part', 'includes', '/',\n",
            "'search', 'on,', 'the', 'preference,', 'The', 'body', 'includes', 'the',\n",
            "'typical', 'search', 'body', 'request', 'the', 'is', 'the', 'above', 'includes',\n",
            "'an', 'example', 'also', 'be', 'matching', 'there', 'a', 'complete', 'for',\n",
            "'that', 'specific', 'status', 'The', 'allows', 'also', 'search', 'against',\n",
            "'an', 'as', 'explicitly', 'otherwise', 'in', 'The', 'above', 'execute', 'the',\n",
            "'the', 'twitter', 'search', 'thread', 'requests', 'protect', 'a', 'cluster',\n",
            "'a', 'default', 'hit', 'cause', 'request', 'scenarios', 'protection', 'search',\n",
            "'requests', 'are', 'expected', 'See', 'access', 'control', 'Template',\n",
            "'support', 'Much', 'like', 'for', 'the', 'resource,', 'provides', 'support',\n",
            "'templates.', 'Submit', 'them', 'like', 'for', 'inline', 'templates.', 'You',\n",
            "'can', 'also', 'create', 'search', 'templates:', 'the', 'search', 'api',\n",
            "'works', 'Both', 'examples', 'above', 'tweets', 'from', 'the', 'twitter',\n",
            "'certain', 'The', 'Multi', 'The', 'When', 'the', 'is', 'to', 'be', 'If',\n",
            "'cause', 'Should', 'prefix', 'be', 'analyzed', 'or', 'The', 'upon', 'reaching',\n",
            "'which', 'the', 'query', 'execution', 'will', 'terminate', 'early.', 'If',\n",
            "'actually', 'The', 'its', 'be', 'body', 'Both', 'with', 'The', 'shards.', 'For',\n",
            "'each', 'shard', 'id', 'group,', 'a', 'replica', 'against', 'it.', 'The',\n",
            "'routing', 'separated', 'list', 'of', 'the', 'routing', 'The', 'validate',\n",
            "'API', 'validate', 'a', 'expensive', 'query', 'without', 'executing', 'it.',\n",
            "'test', 'data', 'explain', '_validate:', 'The', 'response', 'contains',\n",
            "'valid:true:', 'to', 'be', 'If', 'cause', 'Should', 'prefix', 'be', 'analyzed',\n",
            "'or', 'The', 'also', 'in', 'the', 'search', 'api', 'works', 'the', 'is', 'be',\n",
            "'the', 'invalid', 'Elasticsearch', 'post_date', 'be', 'dynamic', 'not', 'into',\n",
            "'explain', 'get', 'detailed', 'information', 'about', 'why', 'a', 'responds',\n",
            "'with:', 'When', 'the', 'query', 'is', 'valid,', 'the', 'explanation', 'to',\n",
            "'the', 'that', 'the', 'more', 'detailed', 'showing', 'be', 'For', 'the',\n",
            "'detailed', 'explanation', 'The', 'explain', 'api', 'specific', 'give', 'Full',\n",
            "'This', 'simpler', 'the', 'the', 'This', 'the', 'parent', 'Same', 'effect',\n",
            "'the', 'explain', 'is', 'source', 'be', 'q', 'The', 'to', 'analyzing', 'the',\n",
            "'to', 'Should', 'prefix', 'be', 'analyzed', 'or', 'If', 'cause', 'be', 'The',\n",
            "'Profile', 'execution.', 'a', 'search', 'certain', 'improve', 'the', 'the',\n",
            "'complicated', 'requests', 'across', 'many', 'help', 'Any', '_search', 'be',\n",
            "'by', 'a', 'top-level', 'profile', 'parameter:', 'Setting', 'the', 'This',\n",
            "'Search', 'results', 'Even', 'for', 'a', 'simple', 'is', 'relatively',\n",
            "'complicated.', 'break', 'structure', 'Each', 'Each', 'a', 'section', 'about',\n",
            "'profile', 'contains', 'a', 'section', 'the', 'details', 'lists', 'its',\n",
            "'profile', 'where', 'a', 'search', 'is', 'a', 'profiled', 'the', 'sections',\n",
            "'There', 'will', 'also', 'be', 'a', 'rewrite', 'metric', 'showing', 'spent',\n",
            "'rewriting', 'the', '(in', 'nanoseconds).', 'As', 'statistics', 'apis,', 'the',\n",
            "'Profile', 'API', 'supports', 'human', 'readable', 'outputs.', 'by', 'adding',\n",
            "'to', 'the', 'query', 'string.', 'In', 'this', 'the', 'output', 'contains',\n",
            "'the', 'time', 'field', 'containing', 'rounded,', 'human', 'readable', 'timing',\n",
            "'information', 'The', 'details', 'provided', 'by', 'the', 'Profile', 'API',\n",
            "'expose', 'class', 'names', 'concepts,', 'which', 'complete', 'interpretation',\n",
            "'the', 'results', 'require', 'fairly', 'advanced', 'knowledge', 'Lucene.',\n",
            "'This', 'page', 'give', 'complete', 'please', 'refer', 'to', 'Lucene’s',\n",
            "'documentation', 'and,', 'in', 'places,', 'the', 'a', 'complete', 'not',\n",
            "'usually', 'see', 'a', 'that', 'query', 'section', 'contains', 'detailed',\n",
            "'timing', 'query', 'tree', 'executed', 'by', 'on', 'a', 'particular', 'shard.',\n",
            "'query', 'tree', 'different.', 'naming.', 'our', 'match', 'query', 'example,',\n",
            "'The', 'breakdown', 'for', 'simplicity', 'Based', 'on', 'the', 'profile',\n",
            "'structure,', 'we', 'can', 'see', 'that', 'our', 'query', 'field', 'displays',\n",
            "'the', 'Lucene', 'class', 'aligns', 'with', 'description', 'displays', 'the',\n",
            "'text', 'the', 'made', 'available', 'to', 'help', 'differentiating', 'between',\n",
            "'of', 'your', 'The', 'time_in_nanos', 'field', 'shows', 'that', 'this',\n",
            "'inclusive', 'The', 'breakdown', 'will', 'give', 'detailed', 'stats', 'about',\n",
            "'children', 'we', 'searched', '(\"search', 'test\"),', 'our', 'BooleanQuery',\n",
            "'holds', 'two', 'The', 'breakdown', 'component', 'lists', 'detailed', 'timing',\n",
            "'statistics', 'about', 'low-level', 'Lucene', 'execution:', 'Timings', 'not',\n",
            "'all.', 'about', 'the', 'breakdown', 'give', 'you', 'feel', 'A)', 'what',\n",
            "'machinery', 'in', 'is', 'actually', 'time,', 'B)', 'the', 'overall', 'the',\n",
            "'breakdown', 'inclusive', 'of', 'all', 'children', 'times.', 'A', 'temporary',\n",
            "'with', 'weight', 'metric', 'shows', 'this', 'This', 'build', 'also', 'show',\n",
            "'the', 'shows', 'nature', 'advance', 'clauses', 'Some', 'such', 'documents',\n",
            "'using', 'a', '\"two-phase\"', 'process.', 'First,', 'the', 'document', 'is',\n",
            "'matches', '(and', 'expensive)', 'process.', 'The', 'second', 'phase',\n",
            "'verification', 'statistic', 'just', 'help', 'selective', 'The', 'the', 'shows',\n",
            "'high-level', 'execution', 'details.', 'defining', 'a', 'We',\n",
            "'SimpleTopScoreDocCollector', 'into', 'CancellableCollector.', 'by',\n",
            "'Elasticsearch.', 'give', 'description', 'the', 'wall-clock', 'lists', 'that',\n",
            "'wraps', 'SimpleTopScoreDocCollector', 'detect', 'the', 'cancelled',\n",
            "'collecting', 'as', 'soon', 'For', 'reference,', 'the', 'various', 'collector',\n",
            "'reasons', 'are:', 'search', 'matching', 'documents', 'documents', 'run',\n",
            "'against', 'the', 'you', 'will', 'see', 'a', 'list', 'A', 'see', 'All',\n",
            "'\"rewriting\"', 'A', 'query', '(and', 'stops', 'changing.', 'in', 'this',\n",
            "'case.', 'The', 'rewriting', 'process', 'is', 'complex', 'difficult', 'to',\n",
            "'display,', 'since', 'change', 'drastically.', 'Rather', 'than', 'showing',\n",
            "'the', 'intermediate', 'results,', 'simply', 'displayed', 'as', 'contains',\n",
            "'more', 'complex', 'example', 'we', 'can', 'This', 'example', 'has:', 'query',\n",
            "'A', 'scoped', 'aggregation', 'A', 'global', 'aggregation', 'And', 'the', 'you',\n",
            "'see,', 'the', 'the', 'the', 'The', 'The', 'The', 'Collector', 'tree', 'is',\n",
            "'fairly', 'straightforward,', 'showing', 'wraps', 'a', 'wraps', 'Understanding',\n",
            "'MultiTermQuery', 'output', 'A', 'special', 'note', 'needs', 'to', 'be', 'made',\n",
            "'about', 'the', 'MultiTermQuery', 'class', 'of', 'queries.', 'This', 'includes',\n",
            "'wildcards,', 'regex,', 'fuzzy', 'queries.', 'These', 'queries', 'verbose',\n",
            "'not', 'overly', 'Essentially,', 'with', 'the', 'the', 'this', 'tree',\n",
            "'distorted', 'clean', 'showing', 'collapse', 'the', 'details', 'that',\n",
            "'query’s', 'just', 'not', 'the', 'layout', 'analyze', 'the', 'ignore',\n",
            "'children', 'find', 'the', 'details', 'interpret.', 'solve', 'The',\n",
            "'aggregations', 'section', 'contains', 'detailed', 'timing', 'executed', 'by',\n",
            "'a', 'particular', 'shard.', 'overall', 'structure', 'aggregation', 'tree',\n",
            "'will', 'resemble', 'your', 'original', 'Elasticsearch', 'request.', 'look',\n",
            "'at', 'the', 'aggregation', 'profile', 'this', 'time:', 'This', 'following',\n",
            "'aggregation', 'profile', 'output:', 'From', 'the', 'profile', 'structure',\n",
            "'we', 'can', 'see', 'that', 'the', 'internally', 'being', 'run', 'as', 'a',\n",
            "'LongTermsAggregator', 'the', 'same', 'we', 'see', 'a', 'GlobalAggregator',\n",
            "'comes', 'That', 'The', 'time_in_nanos', 'field', 'shows', 'the', 'breakdown',\n",
            "'field', 'will', 'give', 'detailed', 'stats', 'about', 'The', 'breakdown',\n",
            "'component', 'lists', 'detailed', 'timing', 'statistics', 'about', 'low-level',\n",
            "'Lucene', 'execution:', 'Timings', 'all.', 'breakdown', 'give', 'feel', 'A)',\n",
            "'what', 'machinery', 'in', 'is', 'actually', 'eating', 'time,', 'the',\n",
            "'breakdown', 'inclusive', 'all', 'children', 'times.', 'This', 'parts',\n",
            "'Records', 'the', 'search', 'of', 'instrumenting', 'not', 'are', 'also', 'not',\n",
            "'Profiling', 'statistics', 'are', 'currently', 'not', 'available', 'for',\n",
            "'suggestions,', 'highlighting,', 'dfs_query_then_fetch', 'experimental.', 'The',\n",
            "'instrumenting', 'parts', 'results', 'be', 'viewed', 'as', 'best', 'provide',\n",
            "'detailed', 'time.', 'The', 'field', 'The', 'by', 'on', 'Supported', 'request',\n",
            "'A', 'compute', 'stats', 'for.', 'match', 'the', 'The', 'capabilities',\n",
            "'information', 'this', 'search', 'Whether', 'this', 'field', 'indices', 'list',\n",
            "'list', 'this', 'not', 'have', 'list', 'this', 'not', 'have', 'format', 'field',\n",
            "'not', 'not', 'The', 'ranking', 'in', 'a', 'compatible', 'fix', 'but',\n",
            "'features', 'not', 'ranking', 'evaluation', 'search', 'results', 'over', 'a',\n",
            "'typical', 'search', 'queries.', 'queries', 'a', 'manually', 'rated',\n",
            "'documents,', 'the', 'typical', 'information', 'retrieval', 'like', 'Search',\n",
            "'quality', 'evaluation', 'starts', 'with', 'looking', 'at', 'the', 'users',\n",
            "'your', 'search', 'application,', 'and', 'the', 'things', 'that', 'are',\n",
            "'searching', 'looking', 'search', 'some', 'other', 'web', 'with', 'information',\n",
            "'about', 'the', 'the', 'browser,', 'location,', 'earlier', 'preferences',\n",
            "'etc…)', 'into', 'a', 'to', 'the', 'underlying', 'search', 'for', 'search',\n",
            "'tweak', 'this', 'user', 'entries', 'a', 'concrete', 'in', 'that', 'the',\n",
            "'search', 'results', 'contain', 'the', 'most', 'relevant', 'information',\n",
            "'with', 'the', 'users', 'information', 'the', 'search', 'result', 'quality',\n",
            "'evaluated', 'constantly', 'across', 'a', 'representative', 'test', 'suite',\n",
            "'of', 'typical', 'particular', 'of', 'In', 'order', 'to', 'get', 'started',\n",
            "'with', 'search', 'quality', 'basic', 'things', 'are', 'documents', 'relevance',\n",
            "'a', 'search', 'information', 'the', 'user', 'ranking', 'to', 'use', 'this',\n",
            "'information', 'in', 'a', 'ranking', 'evaluation', 'request', 'evaluation',\n",
            "'search', 'Ranking', 'evaluation', 'request', 'structure', 'In', 'together',\n",
            "'with', 'evaluation', 'request', 'section', 'contains', 'along', 'with',\n",
            "'evaluated', 'together', 'with', 'the', 'A', 'document', 'rating', 'be',\n",
            "'relevance', 'the', 'document', 'on', 'a', 'user', 'defined', 'scale.',\n",
            "'metrics,', 'just', 'giving', 'binary', 'based', 'ranking', 'evaluation',\n",
            "'section', 'the', 'template', 'id', 'Available', 'evaluation', 'metrics',\n",
            "'available', 'evaluation', 'be', 'relevant', 'results', 'in', 'the', 'top', 'k',\n",
            "'search', 'results.', 'Its', 'at', 'the', 'top', 'relevant', 'documents', 'in',\n",
            "'10', 'top', 'hits', 'the', 'users', 'information', 'well', 'simple',\n",
            "'evaluation', 'metric', 'easy', 'understand', 'the', 'relevant', 'take',\n",
            "'results', 'that', 'result', 'that', 'retrieved', 'rating', 'documents',\n",
            "'considered', 'Mean', 'the', 'the', 'document.', 'the', 'relevant', 'result',\n",
            "'across', 'give', 'retrieved', 'rating', 'documents', 'are', 'considered',\n",
            "'Discounted', 'cumulative', 'gain', '(DCG)', 'In', 'cumulative', 'gain',\n",
            "'takes', 'the', 'the', 'rating', 'the', 'relevant', 'documents', 'more',\n",
            "'useful', 'for', 'the', 'user', 'appearing', 'at', 'the', 'top', 'of', 'the',\n",
            "'result', 'list.', 'Therefore,', 'the', 'ratings', 'documents', 'on', 'lower',\n",
            "'search', 'overall', 'DCG', 'metric.', 'The', 'retrieved', 'If', 'Expected',\n",
            "'Reciprocal', 'Rank', 'reciprocal', 'rank', 'graded', 'relevance', 'case',\n",
            "'Donald', 'Metzler,', 'reciprocal', 'on', 'a', 'cascade', 'stops', 'at',\n",
            "'document', 'the', 'information', 'navigation', 'needs', 'in', 'The', 'the',\n",
            "'at', 'which', 'a', 'user', 'stops', 'reading', 'through', 'the', 'result',\n",
            "'list.', 'relevant', 'document', 'in', 'ranking', 'score.', 'the', 'same',\n",
            "'document', 'some', 'relevant', '(but', 'maybe', 'less', 'relevant)',\n",
            "'documents', 'preceding', 'it.', 'In', 'documents', 'relevant', 'documents.',\n",
            "'relevant', 'documents', 'The', 'Mandatory', 'parameter.', 'The', 'highest',\n",
            "'relevance', 'grade', 'used', 'in', 'the', 'user', 'supplied', 'relevance',\n",
            "'judgments.', 'retrieved', 'format', 'the', 'a', 'details', 'section', 'with',\n",
            "'a', 'breakdown', 'the', 'optional', 'failures', 'section', 'that', 'shows',\n",
            "'of', 'evaluation', 'the', 'details', 'section', 'in', 'the', 'original',\n",
            "'keyed', 'by', 'the', 'search', 'request', 'id', 'in', 'details', 'section',\n",
            "'shows', 'this', 'the', 'result', 'this', 'that', 'the', 'hits', 'section',\n",
            "'shows', 'the', 'search', 'results', 'with', 'their', 'rating']\n"
          ],
          "name": "stdout"
        }
      ]
    },
    {
      "cell_type": "markdown",
      "metadata": {
        "id": "YNygSDoe_gvC",
        "colab_type": "text"
      },
      "source": [
        "We see that precision and recall value are too low, F1-score on test data is also small.\n",
        "\n",
        "It is safe to assume model will not greatly perform , causing the output differ from the actual one in case of h1_7.txt"
      ]
    },
    {
      "cell_type": "code",
      "metadata": {
        "id": "CrH09rOBXubm",
        "colab_type": "code",
        "colab": {}
      },
      "source": [
        "#!rm -r '/content/BERT-keyphrase-extraction/model'\n",
        "#!rm -r '/content/BERT-keyphrase-extraction/experiments'"
      ],
      "execution_count": null,
      "outputs": []
    },
    {
      "cell_type": "code",
      "metadata": {
        "id": "hUcJI1DvIj_Y",
        "colab_type": "code",
        "colab": {}
      },
      "source": [
        "\"\"\"\n",
        "from google.colab import drive\n",
        "drive.mount('/content/drive')\n",
        "\"\"\""
      ],
      "execution_count": null,
      "outputs": []
    },
    {
      "cell_type": "code",
      "metadata": {
        "id": "0dvqVWICpbkH",
        "colab_type": "code",
        "colab": {}
      },
      "source": [
        "\"\"\"\n",
        "gdrive_path = '/content/drive/My Drive/BERT_BiLSTM_CRF_Keyphrase_Extraction/'\n",
        "if not os.path.exists(gdrive_path):\n",
        "  os.makedirs(gdrive_path)\n",
        "\n",
        "!cp -r ./BERT-keyphrase-extraction/ '/content/drive/My Drive/BERT_BiLSTM_CRF_Keyphrase_Extraction/'\n",
        "\"\"\""
      ],
      "execution_count": null,
      "outputs": []
    },
    {
      "cell_type": "code",
      "metadata": {
        "id": "of5jbv5Ypbmu",
        "colab_type": "code",
        "colab": {}
      },
      "source": [
        ""
      ],
      "execution_count": null,
      "outputs": []
    },
    {
      "cell_type": "code",
      "metadata": {
        "id": "CIKzgMfipbra",
        "colab_type": "code",
        "colab": {}
      },
      "source": [
        ""
      ],
      "execution_count": null,
      "outputs": []
    },
    {
      "cell_type": "code",
      "metadata": {
        "id": "zt8x98hYpbt7",
        "colab_type": "code",
        "colab": {}
      },
      "source": [
        ""
      ],
      "execution_count": null,
      "outputs": []
    }
  ]
}